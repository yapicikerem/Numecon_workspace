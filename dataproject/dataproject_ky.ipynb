{
 "cells": [
  {
   "cell_type": "code",
   "execution_count": 65,
   "metadata": {},
   "outputs": [],
   "source": [
    "import pandas as pd\n",
    "from IPython.display import display\n",
    "import matplotlib.pyplot as plt\n",
    "plt.style.use('seaborn-whitegrid')\n",
    "import yfinance as yf\n",
    "from yahoofinancials import YahooFinancials\n",
    "import datetime"
   ]
  },
  {
   "cell_type": "code",
   "execution_count": 66,
   "metadata": {},
   "outputs": [],
   "source": [
    "#Defining start and end dates\n",
    "start_date = datetime.datetime(2019,1,1)\n",
    "end_date = datetime.datetime(2022,4,1)\n",
    "\n",
    "#Since several stocks will be pulled we define these variables \n",
    "stock1 = 'AAPL'\n",
    "stock2 = 'MSFT'\n",
    "stock3 = 'TSLA'"
   ]
  },
  {
   "cell_type": "code",
   "execution_count": 70,
   "metadata": {},
   "outputs": [
    {
     "name": "stdout",
     "output_type": "stream",
     "text": [
      "[*********************100%***********************]  3 of 3 completed\n"
     ]
    }
   ],
   "source": [
    "df = yf.download([stock1,stock2,stock3],start=start_date, end=end_date)"
   ]
  },
  {
   "cell_type": "code",
   "execution_count": 71,
   "metadata": {},
   "outputs": [
    {
     "data": {
      "text/html": [
       "<div>\n",
       "<style scoped>\n",
       "    .dataframe tbody tr th:only-of-type {\n",
       "        vertical-align: middle;\n",
       "    }\n",
       "\n",
       "    .dataframe tbody tr th {\n",
       "        vertical-align: top;\n",
       "    }\n",
       "\n",
       "    .dataframe thead th {\n",
       "        text-align: right;\n",
       "    }\n",
       "</style>\n",
       "<table border=\"1\" class=\"dataframe\">\n",
       "  <thead>\n",
       "    <tr style=\"text-align: right;\">\n",
       "      <th></th>\n",
       "      <th>AAPL</th>\n",
       "      <th>MSFT</th>\n",
       "      <th>TSLA</th>\n",
       "    </tr>\n",
       "    <tr>\n",
       "      <th>Date</th>\n",
       "      <th></th>\n",
       "      <th></th>\n",
       "      <th></th>\n",
       "    </tr>\n",
       "  </thead>\n",
       "  <tbody>\n",
       "    <tr>\n",
       "      <th>2018-12-31</th>\n",
       "      <td>NaN</td>\n",
       "      <td>NaN</td>\n",
       "      <td>NaN</td>\n",
       "    </tr>\n",
       "    <tr>\n",
       "      <th>2019-01-02</th>\n",
       "      <td>0.001140</td>\n",
       "      <td>-0.004440</td>\n",
       "      <td>-0.070582</td>\n",
       "    </tr>\n",
       "    <tr>\n",
       "      <th>2019-01-03</th>\n",
       "      <td>-0.104925</td>\n",
       "      <td>-0.037482</td>\n",
       "      <td>-0.031978</td>\n",
       "    </tr>\n",
       "    <tr>\n",
       "      <th>2019-01-04</th>\n",
       "      <td>0.041803</td>\n",
       "      <td>0.045460</td>\n",
       "      <td>0.056094</td>\n",
       "    </tr>\n",
       "    <tr>\n",
       "      <th>2019-01-07</th>\n",
       "      <td>-0.002228</td>\n",
       "      <td>0.001274</td>\n",
       "      <td>0.052935</td>\n",
       "    </tr>\n",
       "    <tr>\n",
       "      <th>...</th>\n",
       "      <td>...</td>\n",
       "      <td>...</td>\n",
       "      <td>...</td>\n",
       "    </tr>\n",
       "    <tr>\n",
       "      <th>2022-03-25</th>\n",
       "      <td>0.003727</td>\n",
       "      <td>-0.001382</td>\n",
       "      <td>-0.003240</td>\n",
       "    </tr>\n",
       "    <tr>\n",
       "      <th>2022-03-28</th>\n",
       "      <td>0.005024</td>\n",
       "      <td>0.022853</td>\n",
       "      <td>0.077281</td>\n",
       "    </tr>\n",
       "    <tr>\n",
       "      <th>2022-03-29</th>\n",
       "      <td>0.018954</td>\n",
       "      <td>0.015046</td>\n",
       "      <td>0.007055</td>\n",
       "    </tr>\n",
       "    <tr>\n",
       "      <th>2022-03-30</th>\n",
       "      <td>-0.006672</td>\n",
       "      <td>-0.004926</td>\n",
       "      <td>-0.005088</td>\n",
       "    </tr>\n",
       "    <tr>\n",
       "      <th>2022-03-31</th>\n",
       "      <td>-0.017936</td>\n",
       "      <td>-0.017841</td>\n",
       "      <td>-0.015095</td>\n",
       "    </tr>\n",
       "  </tbody>\n",
       "</table>\n",
       "<p>820 rows × 3 columns</p>\n",
       "</div>"
      ],
      "text/plain": [
       "                AAPL      MSFT      TSLA\n",
       "Date                                    \n",
       "2018-12-31       NaN       NaN       NaN\n",
       "2019-01-02  0.001140 -0.004440 -0.070582\n",
       "2019-01-03 -0.104925 -0.037482 -0.031978\n",
       "2019-01-04  0.041803  0.045460  0.056094\n",
       "2019-01-07 -0.002228  0.001274  0.052935\n",
       "...              ...       ...       ...\n",
       "2022-03-25  0.003727 -0.001382 -0.003240\n",
       "2022-03-28  0.005024  0.022853  0.077281\n",
       "2022-03-29  0.018954  0.015046  0.007055\n",
       "2022-03-30 -0.006672 -0.004926 -0.005088\n",
       "2022-03-31 -0.017936 -0.017841 -0.015095\n",
       "\n",
       "[820 rows x 3 columns]"
      ]
     },
     "execution_count": 71,
     "metadata": {},
     "output_type": "execute_result"
    }
   ],
   "source": [
    "#We are only interested in the adjusted close prices\n",
    "#Normalizing daily adjusted returns\n",
    "df = np.log(1+ df['Adj Close'].pct_change())\n",
    "\n",
    "df"
   ]
  },
  {
   "cell_type": "markdown",
   "metadata": {},
   "source": [
    "The portfolio return is given as\n",
    "$$\\begin{equation} E(x)=w_1*\\mu_1+w_2*\\mu_2+...+w_n*\\mu_n \\end{equation}$$\n",
    "where $w_n$ is the weight of the asset $n$ and $\\mu_n$ is the mean return of asset $n$ "
   ]
  },
  {
   "cell_type": "code",
   "execution_count": 52,
   "metadata": {},
   "outputs": [],
   "source": [
    "weights = [0.25,0.25,0.25]"
   ]
  },
  {
   "cell_type": "code",
   "execution_count": 56,
   "metadata": {},
   "outputs": [
    {
     "name": "stdout",
     "output_type": "stream",
     "text": [
      "0.001663371979599752\n",
      "0.001663371979599752\n"
     ]
    },
    {
     "data": {
      "text/plain": [
       "0.001663371979599752"
      ]
     },
     "execution_count": 56,
     "metadata": {},
     "output_type": "execute_result"
    }
   ],
   "source": [
    "#Using the portfolio return formular\n",
    "return1=weights[0]*df.AAPL.mean()+weights[1]*df.MSFT.mean()+weights[2]*df.TSLA.mean()\n",
    "\n",
    "#Using the dot product in numpy gives the same result, but is more efficient and scalable\n",
    "return_np = np.dot(df.mean(),weights)\n",
    "\n",
    "print(return_1)\n",
    "print(return_np)\n",
    "\n",
    "#Defining a variable \n",
    "def portfolioreturn(weights):\n",
    "    return np.dot(df.mean(),weights)\n",
    "\n",
    "portfolioreturn(weights)\n"
   ]
  },
  {
   "cell_type": "markdown",
   "metadata": {},
   "source": [
    "The portfolio variance is given as\n",
    "$$\\begin{equation} Var(x)=w_1^2*\\sigma_1^2+w_2^2*\\sigma_2^2+...+2*w_n^2*\\sigma_n^2*Cov_{1,2,...,n} \\end{equation}$$\n",
    "where $w_n$ is the weight of the asset $n$, $\\sigma_n$ is the standard deviation of asset $n$ and $Cov_{1,2,...,n}$ is the covariance between asset $1,2...,n$"
   ]
  },
  {
   "cell_type": "code",
   "execution_count": 57,
   "metadata": {},
   "outputs": [
    {
     "data": {
      "text/html": [
       "<div>\n",
       "<style scoped>\n",
       "    .dataframe tbody tr th:only-of-type {\n",
       "        vertical-align: middle;\n",
       "    }\n",
       "\n",
       "    .dataframe tbody tr th {\n",
       "        vertical-align: top;\n",
       "    }\n",
       "\n",
       "    .dataframe thead th {\n",
       "        text-align: right;\n",
       "    }\n",
       "</style>\n",
       "<table border=\"1\" class=\"dataframe\">\n",
       "  <thead>\n",
       "    <tr style=\"text-align: right;\">\n",
       "      <th></th>\n",
       "      <th>AAPL</th>\n",
       "      <th>MSFT</th>\n",
       "      <th>TSLA</th>\n",
       "    </tr>\n",
       "  </thead>\n",
       "  <tbody>\n",
       "    <tr>\n",
       "      <th>AAPL</th>\n",
       "      <td>0.000455</td>\n",
       "      <td>0.000319</td>\n",
       "      <td>0.000421</td>\n",
       "    </tr>\n",
       "    <tr>\n",
       "      <th>MSFT</th>\n",
       "      <td>0.000319</td>\n",
       "      <td>0.000371</td>\n",
       "      <td>0.000382</td>\n",
       "    </tr>\n",
       "    <tr>\n",
       "      <th>TSLA</th>\n",
       "      <td>0.000421</td>\n",
       "      <td>0.000382</td>\n",
       "      <td>0.001793</td>\n",
       "    </tr>\n",
       "  </tbody>\n",
       "</table>\n",
       "</div>"
      ],
      "text/plain": [
       "          AAPL      MSFT      TSLA\n",
       "AAPL  0.000455  0.000319  0.000421\n",
       "MSFT  0.000319  0.000371  0.000382\n",
       "TSLA  0.000421  0.000382  0.001793"
      ]
     },
     "execution_count": 57,
     "metadata": {},
     "output_type": "execute_result"
    }
   ],
   "source": [
    "#Finding the covariance\n",
    "df.cov()"
   ]
  },
  {
   "cell_type": "code",
   "execution_count": 58,
   "metadata": {},
   "outputs": [
    {
     "name": "stdout",
     "output_type": "stream",
     "text": [
      "the variance of the portfolio is 2.8429567284149883e-05 and the portfolio standard variation is 0.0053319384171377935\n",
      "the variance of the portfolio is 0.0003039418315095695 and the portfolio standard variation is 0.01743392759849511\n"
     ]
    }
   ],
   "source": [
    "#solving the variance for the portfolio\n",
    "pv = weights[0]**2*df.cov().iloc[0,0]+weights[1]**2*df.cov().iloc[1,1]*2*weights[0]*weights[1]*df.cov().iloc[0,1]\n",
    "pv\n",
    "\n",
    "#solving with numpy dot product\n",
    "portfolio_var= np.dot(np.dot(df.cov(), weights),weights)\n",
    "\n",
    "#portfolio standard deviation\n",
    "std=pv**(1/2)\n",
    "portfolio_std=portfolio_var**(1/2)\n",
    "\n",
    "#Defining a variable for portfolio standard deviation. the np.sqrt(250) is the annualized standard deviation\n",
    "def portfoliostd(weights):\n",
    "    return (np.dot(np.dot(df.cov(), weights),weights))**(1/2)*np.sqrt(250)\n",
    "\n",
    "print('the variance of the portfolio is ' + str(pv), 'and the portfolio standard variation is ' + str(std))\n",
    "\n",
    "print('the variance of the portfolio is ' + str(portfolio_var), 'and the portfolio standard variation is ' + str(portfolio_std))"
   ]
  },
  {
   "cell_type": "code",
   "execution_count": 59,
   "metadata": {},
   "outputs": [
    {
     "data": {
      "text/plain": [
       "0.27565459886857024"
      ]
     },
     "execution_count": 59,
     "metadata": {},
     "output_type": "execute_result"
    }
   ],
   "source": [
    "portfoliostd(weights)"
   ]
  },
  {
   "cell_type": "markdown",
   "metadata": {},
   "source": [
    "Random portfolio weights for the efficient frontier"
   ]
  },
  {
   "cell_type": "code",
   "execution_count": 61,
   "metadata": {},
   "outputs": [
    {
     "data": {
      "text/plain": [
       "array([0.05149898, 0.66900058, 0.27950044])"
      ]
     },
     "execution_count": 61,
     "metadata": {},
     "output_type": "execute_result"
    }
   ],
   "source": [
    "def weightscreator(df):\n",
    "    rand = np.random.random(len(df.columns)) #using len to take the column length of our dataframe - scalable if more stocks will be included\n",
    "    rand /= rand.sum() #as the sum of the weights always should be 1\n",
    "    return rand\n",
    "\n",
    "weightscreator(df)"
   ]
  },
  {
   "cell_type": "code",
   "execution_count": 72,
   "metadata": {},
   "outputs": [],
   "source": [
    "returns =[]\n",
    "stds = []\n",
    "w = []\n",
    "\n",
    "for i in range(500):\n",
    "    weights =weightscreator(df) #getting 500 different weights\n",
    "    returns.append(portfolioreturn(weights))\n",
    "    stds.append(portfoliostd(weights))\n",
    "    w.append(weights)"
   ]
  },
  {
   "cell_type": "code",
   "execution_count": 73,
   "metadata": {},
   "outputs": [
    {
     "data": {
      "text/plain": [
       "Text(0, 0.5, 'Portfolioreturn')"
      ]
     },
     "execution_count": 73,
     "metadata": {},
     "output_type": "execute_result"
    },
    {
     "data": {
      "image/png": "[encoded data removed]",
      "text/plain": [
       "<Figure size 432x288 with 1 Axes>"
      ]
     },
     "metadata": {},
     "output_type": "display_data"
    }
   ],
   "source": [
    "plt.scatter(stds, returns)\n",
    "plt.scatter(df.std().iloc[0]*np.sqrt(250),df.mean().iloc[0],c='k') \n",
    "plt.scatter(df.std().iloc[1]*np.sqrt(250),df.mean().iloc[1],c='y')\n",
    "plt.scatter(df.std().iloc[2]*np.sqrt(250),df.mean().iloc[2],c='orange')\n",
    "plt.scatter(min(stds),returns[stds.index(min(stds))], c='green') #minimum variance portfolio\n",
    "plt.title(\"Efficient frontier\")\n",
    "plt.xlabel(\"Portfoliostd\")\n",
    "plt.ylabel(\"Portfolioreturn\")"
   ]
  },
  {
   "cell_type": "code",
   "execution_count": 74,
   "metadata": {},
   "outputs": [
    {
     "data": {
      "text/plain": [
       "0.0014959822088756519"
      ]
     },
     "execution_count": 74,
     "metadata": {},
     "output_type": "execute_result"
    }
   ],
   "source": [
    "returns[stds.index(min(stds))]\n"
   ]
  },
  {
   "cell_type": "code",
   "execution_count": null,
   "metadata": {},
   "outputs": [],
   "source": []
  }
 ],
 "metadata": {
  "interpreter": {
   "hash": "f31ce96975aef727283a5e356e173ec07bdbb81bb412b79665a8634f41160011"
  },
  "kernelspec": {
   "display_name": "Python 3.9.7 ('base')",
   "language": "python",
   "name": "python3"
  },
  "language_info": {
   "codemirror_mode": {
    "name": "ipython",
    "version": 3
   },
   "file_extension": ".py",
   "mimetype": "text/x-python",
   "name": "python",
   "nbconvert_exporter": "python",
   "pygments_lexer": "ipython3",
   "version": "3.9.7"
  },
  "orig_nbformat": 4
 },
 "nbformat": 4,
 "nbformat_minor": 2
}

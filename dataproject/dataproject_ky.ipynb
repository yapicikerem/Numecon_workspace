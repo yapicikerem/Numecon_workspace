{
 "cells": [
  {
   "cell_type": "code",
   "execution_count": 1,
   "metadata": {},
   "outputs": [],
   "source": [
    "from Dataproject import *"
   ]
  },
  {
   "cell_type": "markdown",
   "metadata": {},
   "source": [
    "In this assignment, we are investigating a portfolio consisting of three different stocks. We would like to find the return of the portfolio, and the variances that the portfolio entails. In the end we want to find the optimal portfolio weights for the maximum return."
   ]
  },
  {
   "cell_type": "code",
   "execution_count": 2,
   "metadata": {},
   "outputs": [],
   "source": [
    "#Defining start and end dates\n",
    "start_date = datetime.datetime(2019,1,1)\n",
    "end_date = datetime.datetime(2022,4,1)\n",
    "\n",
    "#Since several stocks will be pulled we define these variables \n",
    "stock1 = 'AAPL'\n",
    "stock2 = 'MSFT'\n",
    "stock3 = 'TSLA'"
   ]
  },
  {
   "cell_type": "code",
   "execution_count": 3,
   "metadata": {},
   "outputs": [
    {
     "name": "stdout",
     "output_type": "stream",
     "text": [
      "[*********************100%***********************]  3 of 3 completed\n"
     ]
    }
   ],
   "source": [
    "df1 = yf.download([stock1,stock2,stock3],start=start_date, end=end_date)"
   ]
  },
  {
   "cell_type": "code",
   "execution_count": 4,
   "metadata": {},
   "outputs": [
    {
     "name": "stdout",
     "output_type": "stream",
     "text": [
      "[*********************100%***********************]  3 of 3 completed\n"
     ]
    }
   ],
   "source": [
    "#Using the portfolio return formular\n",
    "weights = [0.0,0.0,1.0]\n",
    "df1 = yf.download([stock1,stock2,stock3],start=start_date, end=end_date)\n",
    "df1 = df1['Adj Close']"
   ]
  },
  {
   "cell_type": "code",
   "execution_count": 5,
   "metadata": {},
   "outputs": [],
   "source": [
    "#We are only interested in the adjusted close prices\n",
    "#Normalizing daily adjusted returns\n",
    "df = np.log(1+ df1.pct_change())\n"
   ]
  },
  {
   "cell_type": "markdown",
   "metadata": {},
   "source": [
    "The portfolio return is given as\n",
    "$$\\begin{equation} E(x)=w_1*\\mu_1+w_2*\\mu_2+...+w_n*\\mu_n \\end{equation}$$\n",
    "where $w_n$ is the weight of the asset $n$ and $\\mu_n$ is the mean return of asset $n$ "
   ]
  },
  {
   "cell_type": "code",
   "execution_count": 6,
   "metadata": {},
   "outputs": [],
   "source": [
    "weights = [0.25,0.25,0.5]"
   ]
  },
  {
   "cell_type": "code",
   "execution_count": 7,
   "metadata": {},
   "outputs": [
    {
     "name": "stdout",
     "output_type": "stream",
     "text": [
      "the return of the portfolio is 902.31%\n"
     ]
    }
   ],
   "source": [
    "#Using the portfolio return formular\n",
    "applegrowth = (df1.AAPL.iloc[-1]-df1.AAPL.iloc[0])/df1.AAPL.iloc[0]*100\n",
    "microsoftgrowth = (df1.MSFT.iloc[-1]-df1.MSFT.iloc[0])/df1.MSFT.iloc[0]*100\n",
    "teslagrowth = (df1.TSLA.iloc[-1]-df1.TSLA.iloc[0])/df1.TSLA.iloc[0]*100\n",
    "\n",
    "portfolio_return=weights[0]*applegrowth+weights[1]*microsoftgrowth+weights[2]*teslagrowth\n",
    "\n",
    "print('the return of the portfolio is ' + \"%.2f\" % portfolio_return + \"%\")"
   ]
  },
  {
   "cell_type": "markdown",
   "metadata": {},
   "source": [
    "The portfolio variance is given as\n",
    "$$\\begin{equation} Var(x)=w_1^2*\\sigma_1^2+w_2^2*\\sigma_2^2+w_3^2*\\sigma_3^2+2*w_1*w_2*Cov_{1,2}+2*w_1*w_3*Cov_{1,3}+2*w_2*w_3*Cov_{2,3} \\end{equation}$$\n",
    "where $w$ is the weight of the asset, $\\sigma$ is the standard deviation of asset and $Cov_{x,y}$ is the covariance between asset $x,y$"
   ]
  },
  {
   "cell_type": "code",
   "execution_count": 8,
   "metadata": {},
   "outputs": [
    {
     "data": {
      "text/html": [
       "<div>\n",
       "<style scoped>\n",
       "    .dataframe tbody tr th:only-of-type {\n",
       "        vertical-align: middle;\n",
       "    }\n",
       "\n",
       "    .dataframe tbody tr th {\n",
       "        vertical-align: top;\n",
       "    }\n",
       "\n",
       "    .dataframe thead th {\n",
       "        text-align: right;\n",
       "    }\n",
       "</style>\n",
       "<table border=\"1\" class=\"dataframe\">\n",
       "  <thead>\n",
       "    <tr style=\"text-align: right;\">\n",
       "      <th></th>\n",
       "      <th>AAPL</th>\n",
       "      <th>MSFT</th>\n",
       "      <th>TSLA</th>\n",
       "    </tr>\n",
       "  </thead>\n",
       "  <tbody>\n",
       "    <tr>\n",
       "      <th>AAPL</th>\n",
       "      <td>0.000455</td>\n",
       "      <td>0.000319</td>\n",
       "      <td>0.000421</td>\n",
       "    </tr>\n",
       "    <tr>\n",
       "      <th>MSFT</th>\n",
       "      <td>0.000319</td>\n",
       "      <td>0.000371</td>\n",
       "      <td>0.000382</td>\n",
       "    </tr>\n",
       "    <tr>\n",
       "      <th>TSLA</th>\n",
       "      <td>0.000421</td>\n",
       "      <td>0.000382</td>\n",
       "      <td>0.001793</td>\n",
       "    </tr>\n",
       "  </tbody>\n",
       "</table>\n",
       "</div>"
      ],
      "text/plain": [
       "          AAPL      MSFT      TSLA\n",
       "AAPL  0.000455  0.000319  0.000421\n",
       "MSFT  0.000319  0.000371  0.000382\n",
       "TSLA  0.000421  0.000382  0.001793"
      ]
     },
     "execution_count": 8,
     "metadata": {},
     "output_type": "execute_result"
    }
   ],
   "source": [
    "#Finding the covariance\n",
    "df.cov()"
   ]
  },
  {
   "cell_type": "code",
   "execution_count": 9,
   "metadata": {},
   "outputs": [
    {
     "name": "stdout",
     "output_type": "stream",
     "text": [
      "the variance of the portfolio is 0.000741 and the portfolio standard variation is 0.027214 (Using formular)\n",
      "the variance of the portfolio is 0.000741 and the portfolio standard variation is 0.027214 (Using numpy)\n"
     ]
    }
   ],
   "source": [
    "#solving the variance for the portfolio\n",
    "pv = weights[0]**2*df.cov().iloc[0,0]+weights[1]**2*df.cov().iloc[1,1]+weights[2]**2*df.cov().iloc[2,2]+2*weights[0]*weights[1]*df.cov().iloc[0,1]+2*weights[0]*weights[2]*df.cov().iloc[0,2]+2*weights[1]*weights[2]*df.cov().iloc[1,2]\n",
    "\n",
    "#solving with numpy dot product\n",
    "portfolio_var= np.dot(np.dot(df.cov(), weights),weights)\n",
    "\n",
    "#portfolio standard deviation\n",
    "std=pv**(1/2)\n",
    "portfolio_std=portfolio_var**(1/2)\n",
    "\n",
    "#Defining a variable for portfolio standard deviation. the np.sqrt(250) is the annualized standard deviation\n",
    "def portfoliostd(weights):\n",
    "    return (np.dot(np.dot(df.cov(), weights),weights))**(1/2)*np.sqrt(250)\n",
    "\n",
    "print('the variance of the portfolio is ' + \"%.6f\" % pv, 'and the portfolio standard variation is ' + \"%.6f\" % pv**(1/2) + ' (Using formular)')\n",
    "\n",
    "print('the variance of the portfolio is ' + \"%.6f\" %  portfolio_var, 'and the portfolio standard variation is ' + \"%.6f\" %  portfolio_var**(1/2) + ' (Using numpy)')"
   ]
  },
  {
   "cell_type": "markdown",
   "metadata": {},
   "source": [
    "Random portfolio weights for the efficient frontier"
   ]
  },
  {
   "cell_type": "code",
   "execution_count": 10,
   "metadata": {},
   "outputs": [
    {
     "data": {
      "text/plain": [
       "array([0.37716195, 0.35731229, 0.26552576])"
      ]
     },
     "execution_count": 10,
     "metadata": {},
     "output_type": "execute_result"
    }
   ],
   "source": [
    "def weightscreator(df):\n",
    "    rand = np.random.random(len(df.columns)) #using len to take the column length of our dataframe - scalable if more stocks will be included\n",
    "    rand /= rand.sum() #as the sum of the weights always should be 1\n",
    "    return rand\n",
    "\n",
    "weightscreator(df)"
   ]
  },
  {
   "cell_type": "code",
   "execution_count": 12,
   "metadata": {},
   "outputs": [],
   "source": [
    "returns =[]\n",
    "stds = []\n",
    "w = []\n",
    "\n",
    "for i in range(500):\n",
    "    weights =weightscreator(df) #getting 500 different weights\n",
    "    returns.append(np.dot(df.mean(),weights))\n",
    "    stds.append(portfoliostd(weights))\n",
    "    w.append(weights)"
   ]
  },
  {
   "cell_type": "code",
   "execution_count": 13,
   "metadata": {},
   "outputs": [
    {
     "data": {
      "text/plain": [
       "Text(0, 0.5, 'Portfolioreturn')"
      ]
     },
     "execution_count": 13,
     "metadata": {},
     "output_type": "execute_result"
    },
    {
     "data": {
      "image/png": "[encoded data removed]",
      "text/plain": [
       "<Figure size 432x288 with 1 Axes>"
      ]
     },
     "metadata": {},
     "output_type": "display_data"
    }
   ],
   "source": [
    "plt.scatter(stds, returns)\n",
    "plt.scatter(df.std().iloc[0]*np.sqrt(250),df.mean().iloc[0],c='k') \n",
    "plt.scatter(df.std().iloc[1]*np.sqrt(250),df.mean().iloc[1],c='y')\n",
    "plt.scatter(df.std().iloc[2]*np.sqrt(250),df.mean().iloc[2],c='orange')\n",
    "plt.scatter(min(stds),returns[stds.index(min(stds))], c='green') #minimum variance portfolio\n",
    "plt.title(\"Efficient frontier\")\n",
    "plt.xlabel(\"Portfoliostd\")\n",
    "plt.ylabel(\"Portfolioreturn\")"
   ]
  },
  {
   "cell_type": "code",
   "execution_count": 14,
   "metadata": {},
   "outputs": [
    {
     "data": {
      "text/plain": [
       "0.0015530022353805982"
      ]
     },
     "execution_count": 14,
     "metadata": {},
     "output_type": "execute_result"
    }
   ],
   "source": [
    "returns[stds.index(min(stds))] #Return on portfolio given minimum variance\n"
   ]
  },
  {
   "cell_type": "code",
   "execution_count": 15,
   "metadata": {},
   "outputs": [
    {
     "data": {
      "text/plain": [
       "array([0.31149376, 0.68253498, 0.00597126])"
      ]
     },
     "execution_count": 15,
     "metadata": {},
     "output_type": "execute_result"
    }
   ],
   "source": [
    "w[stds.index(min(stds))] #Optimal portfolio weights in minimum variance portfolio. This makes intuitively sense, hence tesla has the lowest portfolio weight which can be explained by its very high volatility"
   ]
  }
 ],
 "metadata": {
  "interpreter": {
   "hash": "f31ce96975aef727283a5e356e173ec07bdbb81bb412b79665a8634f41160011"
  },
  "kernelspec": {
   "display_name": "Python 3.9.7 ('base')",
   "language": "python",
   "name": "python3"
  },
  "language_info": {
   "codemirror_mode": {
    "name": "ipython",
    "version": 3
   },
   "file_extension": ".py",
   "mimetype": "text/x-python",
   "name": "python",
   "nbconvert_exporter": "python",
   "pygments_lexer": "ipython3",
   "version": "3.9.7"
  },
  "orig_nbformat": 4
 },
 "nbformat": 4,
 "nbformat_minor": 2
}

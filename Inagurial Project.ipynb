{
 "cells": [
  {
   "cell_type": "code",
   "execution_count": 1,
   "id": "fb2316ca",
   "metadata": {},
   "outputs": [],
   "source": [
    "#Importing modules\n",
    "import numpy as np # import the numpy module\n",
    "import matplotlib.pyplot as plt\n",
    "from scipy.optimize import minimize_scalar\n",
    "\n",
    "from types import SimpleNamespace # new? explained below\n",
    "from scipy import optimize\n",
    "plt.style.use('seaborn-whitegrid')"
   ]
  },
  {
   "cell_type": "code",
   "execution_count": 8,
   "id": "4bb0dfa7-94ad-4493-a419-aa4a46537060",
   "metadata": {
    "scrolled": true
   },
   "outputs": [],
   "source": [
    "#Question 1 \n",
    "\n",
    "#i)\n",
    "#Defining the parameters using SimpleNameSpace. par = Parameters\n",
    "par = SimpleNamespace()\n",
    "par.y = 1 #assets\n",
    "par.p = 0.2 #probability\n",
    "par.theta = -2 #elasticity \n",
    "\n",
    "#Defining utility function for agent\n",
    "def utility(z,par):\n",
    "    return (z**(1+par.theta))/(1+par.theta)\n",
    "\n",
    "#Defining premium\n",
    "def premium(q,par):\n",
    "    return par.p*q\n",
    "\n",
    "#Defining expected value\n",
    "#Note that z_1, z_2 represents first and second part of the objective function - just in a compressed version\n",
    "def exp_value (i,q,par):\n",
    "    z_1 = par.y-i+q-premium(q,par)\n",
    "    z_2 = par.y-premium(q,par)\n",
    "    return par.p*utility(z_1,par)+(1-par.p)*utility(z_2,par)\n",
    "\n",
    "def opt_q(i,par):\n",
    "    obj = lambda q: -exp_value(i,q,par) #defining the objective function\n",
    "    solution = minimize_scalar(obj, bounds=(0,0.9), method='bounded') #bounded solution within [0, 0.9] \n",
    "    q = solution.x \n",
    "    return q"
   ]
  },
  {
   "cell_type": "code",
   "execution_count": 7,
   "id": "9a31c8a3",
   "metadata": {
    "scrolled": true
   },
   "outputs": [
    {
     "name": "stdout",
     "output_type": "stream",
     "text": [
      "0.00999990437616655\n",
      "0.01898943774849797\n",
      "0.027980353469051773\n",
      "0.03697119749627389\n",
      "0.0459584786626151\n",
      "0.05494979688827585\n",
      "0.06393959546467937\n",
      "0.07292942039136986\n",
      "0.08191926704655894\n",
      "0.090907456554464\n",
      "0.09990033493512705\n",
      "0.10888993079288811\n",
      "0.11787957520568816\n",
      "0.1268692643112741\n",
      "0.1358589940294964\n",
      "0.14484876010927578\n",
      "0.15383855818225836\n",
      "0.1628284128491955\n",
      "0.1718196857816948\n",
      "0.18080744543633426\n",
      "0.18979833788418768\n",
      "0.19878689763871746\n",
      "0.2077771918191711\n",
      "0.21676844456950195\n",
      "0.22575629990379553\n",
      "0.23474606775435977\n",
      "0.24373898260476537\n",
      "0.2527284005232264\n",
      "0.26171752132939596\n",
      "0.2707069091655211\n",
      "0.2796962288076444\n",
      "0.2886855761728056\n",
      "0.2976783630430011\n",
      "0.3066679521911032\n",
      "0.31565771901433853\n",
      "0.32464769892740036\n",
      "0.333637922646332\n",
      "0.34262610790530507\n",
      "0.3516164315105565\n",
      "0.36060689610348823\n",
      "0.36959486810009756\n",
      "0.3785858018050348\n",
      "0.38757566202719806\n",
      "0.39656551553112607\n",
      "0.4055553660526265\n",
      "0.41454521833052466\n",
      "0.423535077883664\n",
      "0.4325249506606354\n",
      "0.44151484259753904\n",
      "0.45050539871844447\n",
      "0.4594953275296799\n",
      "0.4684852366671996\n",
      "0.47747512676084897\n",
      "0.4864649995423071\n",
      "0.49545485780339066\n",
      "0.5044447053026285\n",
      "0.5134342634471772\n",
      "0.5224241845764853\n",
      "0.5314141060099926\n",
      "0.5404040237792281\n",
      "0.5493924148068142\n",
      "0.5583836243289338\n",
      "0.567373263742821\n",
      "0.5763620949424845\n",
      "0.5853546796173523\n",
      "0.5943443602526409\n",
      "0.6033344725416918\n",
      "0.6123216283413923\n",
      "0.6213125373685287\n",
      "0.6303033646186063\n",
      "0.6392942536538083\n",
      "0.6482816385678412\n",
      "0.657271909128514\n",
      "0.6662613427408413\n",
      "0.6752521960426887\n",
      "0.6842430969197414\n",
      "0.6932329108276969\n",
      "0.7022220976297947\n",
      "0.7112117700879852\n",
      "0.7202012387833737\n",
      "0.7291904132835293\n",
      "0.7381824988736924\n",
      "0.7471716416405357\n",
      "0.7561614810648538\n",
      "0.7651512839448598\n",
      "0.7741410325487589\n",
      "0.7831307022838505\n",
      "0.792120259498562\n",
      "0.8011096587679589\n",
      "0.8101021848213895\n",
      "0.819091067037596\n",
      "0.8280807389218969\n",
      "0.8370705643026205\n",
      "0.8460603349784539\n",
      "0.8550500212783054\n",
      "0.8640395812693826\n",
      "0.8730289567265064\n",
      "0.8820214143939038\n",
      "0.8910101539754005\n",
      "0.8999941831565528\n"
     ]
    }
   ],
   "source": [
    "# ii), iii) Creating a for loop to make a grid of the optimum q\n",
    "for i in np.linspace(0.01,0.9,num=100):\n",
    "    res = opt_q(i,par)\n",
    "    print(res)"
   ]
  },
  {
   "cell_type": "code",
   "execution_count": 21,
   "id": "201efecf",
   "metadata": {},
   "outputs": [
    {
     "data": {
      "image/png": "[encoded data removed]",
      "text/plain": [
       "<Figure size 432x288 with 1 Axes>"
      ]
     },
     "metadata": {},
     "output_type": "display_data"
    }
   ],
   "source": [
    "#iv) plotting the xs and q*s with matplotlib\n",
    "# x axis values = i\n",
    "# y axis values = q\n",
    "\n",
    "fig= plt.figure()\n",
    "\n",
    "#plotting the points\n",
    "plt.plot(res, i)\n",
    "\n",
    "# naming the x axis\n",
    "plt.xlabel('x - axis')\n",
    "# naming the y axis\n",
    "plt.ylabel('y - axis')\n",
    " \n",
    "# giving a title to my graph\n",
    "plt.title('My first graph!')\n",
    " \n",
    "# function to show the plot\n",
    "plt.show()\n"
   ]
  },
  {
   "cell_type": "code",
   "execution_count": 22,
   "id": "32790120-1a5b-46d7-8516-db223201f350",
   "metadata": {},
   "outputs": [],
   "source": [
    "#2) \n",
    "\n"
   ]
  },
  {
   "cell_type": "code",
   "execution_count": 13,
   "id": "3292ef07-c56a-4746-b004-6d79a16f1904",
   "metadata": {},
   "outputs": [
    {
     "ename": "ValueError",
     "evalue": "Bracketing interval must be length 2 or 3 sequence.",
     "output_type": "error",
     "traceback": [
      "\u001b[1;31m---------------------------------------------------------------------------\u001b[0m",
      "\u001b[1;31mValueError\u001b[0m                                Traceback (most recent call last)",
      "\u001b[1;32m~\\AppData\\Local\\Temp/ipykernel_30956/1758256819.py\u001b[0m in \u001b[0;36m<module>\u001b[1;34m\u001b[0m\n\u001b[0;32m      3\u001b[0m \u001b[0mx_guess\u001b[0m \u001b[1;33m=\u001b[0m \u001b[1;33m[\u001b[0m\u001b[1;36m0\u001b[0m\u001b[1;33m]\u001b[0m\u001b[1;33m\u001b[0m\u001b[1;33m\u001b[0m\u001b[0m\n\u001b[0;32m      4\u001b[0m \u001b[0mobj\u001b[0m\u001b[1;33m=\u001b[0m \u001b[1;32mlambda\u001b[0m \u001b[0mq\u001b[0m\u001b[1;33m:\u001b[0m \u001b[1;33m-\u001b[0m\u001b[0mexp_value\u001b[0m\u001b[1;33m(\u001b[0m\u001b[0mq\u001b[0m\u001b[1;33m,\u001b[0m\u001b[0mx\u001b[0m\u001b[1;33m[\u001b[0m\u001b[1;36m0\u001b[0m\u001b[1;33m]\u001b[0m\u001b[1;33m,\u001b[0m\u001b[0mmp\u001b[0m\u001b[1;33m)\u001b[0m\u001b[1;33m\u001b[0m\u001b[1;33m\u001b[0m\u001b[0m\n\u001b[1;32m----> 5\u001b[1;33m \u001b[0msolution\u001b[0m \u001b[1;33m=\u001b[0m \u001b[0moptimize\u001b[0m\u001b[1;33m.\u001b[0m\u001b[0mminimize_scalar\u001b[0m\u001b[1;33m(\u001b[0m\u001b[0mobj\u001b[0m\u001b[1;33m,\u001b[0m \u001b[0mx_guess\u001b[0m\u001b[1;33m,\u001b[0m \u001b[0mmethod\u001b[0m\u001b[1;33m=\u001b[0m\u001b[1;34m\"brent\"\u001b[0m\u001b[1;33m)\u001b[0m\u001b[1;33m\u001b[0m\u001b[1;33m\u001b[0m\u001b[0m\n\u001b[0m\u001b[0;32m      6\u001b[0m \u001b[0mx\u001b[0m\u001b[1;33m=\u001b[0m\u001b[0mres\u001b[0m\u001b[1;33m.\u001b[0m\u001b[0mx\u001b[0m\u001b[1;33m[\u001b[0m\u001b[1;36m0\u001b[0m\u001b[1;33m]\u001b[0m\u001b[1;33m\u001b[0m\u001b[1;33m\u001b[0m\u001b[0m\n\u001b[0;32m      7\u001b[0m \u001b[0mf\u001b[0m\u001b[1;33m=\u001b[0m\u001b[1;33m-\u001b[0m\u001b[0mres\u001b[0m\u001b[1;33m.\u001b[0m\u001b[0mfun\u001b[0m\u001b[1;33m\u001b[0m\u001b[1;33m\u001b[0m\u001b[0m\n",
      "\u001b[1;32m~\\anaconda3\\lib\\site-packages\\scipy\\optimize\\_minimize.py\u001b[0m in \u001b[0;36mminimize_scalar\u001b[1;34m(fun, bracket, bounds, args, method, tol, options)\u001b[0m\n\u001b[0;32m    792\u001b[0m         \u001b[1;32mreturn\u001b[0m \u001b[0mmethod\u001b[0m\u001b[1;33m(\u001b[0m\u001b[0mfun\u001b[0m\u001b[1;33m,\u001b[0m \u001b[0margs\u001b[0m\u001b[1;33m=\u001b[0m\u001b[0margs\u001b[0m\u001b[1;33m,\u001b[0m \u001b[0mbracket\u001b[0m\u001b[1;33m=\u001b[0m\u001b[0mbracket\u001b[0m\u001b[1;33m,\u001b[0m \u001b[0mbounds\u001b[0m\u001b[1;33m=\u001b[0m\u001b[0mbounds\u001b[0m\u001b[1;33m,\u001b[0m \u001b[1;33m**\u001b[0m\u001b[0moptions\u001b[0m\u001b[1;33m)\u001b[0m\u001b[1;33m\u001b[0m\u001b[1;33m\u001b[0m\u001b[0m\n\u001b[0;32m    793\u001b[0m     \u001b[1;32melif\u001b[0m \u001b[0mmeth\u001b[0m \u001b[1;33m==\u001b[0m \u001b[1;34m'brent'\u001b[0m\u001b[1;33m:\u001b[0m\u001b[1;33m\u001b[0m\u001b[1;33m\u001b[0m\u001b[0m\n\u001b[1;32m--> 794\u001b[1;33m         \u001b[1;32mreturn\u001b[0m \u001b[0m_minimize_scalar_brent\u001b[0m\u001b[1;33m(\u001b[0m\u001b[0mfun\u001b[0m\u001b[1;33m,\u001b[0m \u001b[0mbracket\u001b[0m\u001b[1;33m,\u001b[0m \u001b[0margs\u001b[0m\u001b[1;33m,\u001b[0m \u001b[1;33m**\u001b[0m\u001b[0moptions\u001b[0m\u001b[1;33m)\u001b[0m\u001b[1;33m\u001b[0m\u001b[1;33m\u001b[0m\u001b[0m\n\u001b[0m\u001b[0;32m    795\u001b[0m     \u001b[1;32melif\u001b[0m \u001b[0mmeth\u001b[0m \u001b[1;33m==\u001b[0m \u001b[1;34m'bounded'\u001b[0m\u001b[1;33m:\u001b[0m\u001b[1;33m\u001b[0m\u001b[1;33m\u001b[0m\u001b[0m\n\u001b[0;32m    796\u001b[0m         \u001b[1;32mif\u001b[0m \u001b[0mbounds\u001b[0m \u001b[1;32mis\u001b[0m \u001b[1;32mNone\u001b[0m\u001b[1;33m:\u001b[0m\u001b[1;33m\u001b[0m\u001b[1;33m\u001b[0m\u001b[0m\n",
      "\u001b[1;32m~\\anaconda3\\lib\\site-packages\\scipy\\optimize\\optimize.py\u001b[0m in \u001b[0;36m_minimize_scalar_brent\u001b[1;34m(func, brack, args, xtol, maxiter, **unknown_options)\u001b[0m\n\u001b[0;32m   2394\u001b[0m                   full_output=True, maxiter=maxiter)\n\u001b[0;32m   2395\u001b[0m     \u001b[0mbrent\u001b[0m\u001b[1;33m.\u001b[0m\u001b[0mset_bracket\u001b[0m\u001b[1;33m(\u001b[0m\u001b[0mbrack\u001b[0m\u001b[1;33m)\u001b[0m\u001b[1;33m\u001b[0m\u001b[1;33m\u001b[0m\u001b[0m\n\u001b[1;32m-> 2396\u001b[1;33m     \u001b[0mbrent\u001b[0m\u001b[1;33m.\u001b[0m\u001b[0moptimize\u001b[0m\u001b[1;33m(\u001b[0m\u001b[1;33m)\u001b[0m\u001b[1;33m\u001b[0m\u001b[1;33m\u001b[0m\u001b[0m\n\u001b[0m\u001b[0;32m   2397\u001b[0m     \u001b[0mx\u001b[0m\u001b[1;33m,\u001b[0m \u001b[0mfval\u001b[0m\u001b[1;33m,\u001b[0m \u001b[0mnit\u001b[0m\u001b[1;33m,\u001b[0m \u001b[0mnfev\u001b[0m \u001b[1;33m=\u001b[0m \u001b[0mbrent\u001b[0m\u001b[1;33m.\u001b[0m\u001b[0mget_result\u001b[0m\u001b[1;33m(\u001b[0m\u001b[0mfull_output\u001b[0m\u001b[1;33m=\u001b[0m\u001b[1;32mTrue\u001b[0m\u001b[1;33m)\u001b[0m\u001b[1;33m\u001b[0m\u001b[1;33m\u001b[0m\u001b[0m\n\u001b[0;32m   2398\u001b[0m \u001b[1;33m\u001b[0m\u001b[0m\n",
      "\u001b[1;32m~\\anaconda3\\lib\\site-packages\\scipy\\optimize\\optimize.py\u001b[0m in \u001b[0;36moptimize\u001b[1;34m(self)\u001b[0m\n\u001b[0;32m   2178\u001b[0m         \u001b[1;31m# set up for optimization\u001b[0m\u001b[1;33m\u001b[0m\u001b[1;33m\u001b[0m\u001b[0m\n\u001b[0;32m   2179\u001b[0m         \u001b[0mfunc\u001b[0m \u001b[1;33m=\u001b[0m \u001b[0mself\u001b[0m\u001b[1;33m.\u001b[0m\u001b[0mfunc\u001b[0m\u001b[1;33m\u001b[0m\u001b[1;33m\u001b[0m\u001b[0m\n\u001b[1;32m-> 2180\u001b[1;33m         \u001b[0mxa\u001b[0m\u001b[1;33m,\u001b[0m \u001b[0mxb\u001b[0m\u001b[1;33m,\u001b[0m \u001b[0mxc\u001b[0m\u001b[1;33m,\u001b[0m \u001b[0mfa\u001b[0m\u001b[1;33m,\u001b[0m \u001b[0mfb\u001b[0m\u001b[1;33m,\u001b[0m \u001b[0mfc\u001b[0m\u001b[1;33m,\u001b[0m \u001b[0mfuncalls\u001b[0m \u001b[1;33m=\u001b[0m \u001b[0mself\u001b[0m\u001b[1;33m.\u001b[0m\u001b[0mget_bracket_info\u001b[0m\u001b[1;33m(\u001b[0m\u001b[1;33m)\u001b[0m\u001b[1;33m\u001b[0m\u001b[1;33m\u001b[0m\u001b[0m\n\u001b[0m\u001b[0;32m   2181\u001b[0m         \u001b[0m_mintol\u001b[0m \u001b[1;33m=\u001b[0m \u001b[0mself\u001b[0m\u001b[1;33m.\u001b[0m\u001b[0m_mintol\u001b[0m\u001b[1;33m\u001b[0m\u001b[1;33m\u001b[0m\u001b[0m\n\u001b[0;32m   2182\u001b[0m         \u001b[0m_cg\u001b[0m \u001b[1;33m=\u001b[0m \u001b[0mself\u001b[0m\u001b[1;33m.\u001b[0m\u001b[0m_cg\u001b[0m\u001b[1;33m\u001b[0m\u001b[1;33m\u001b[0m\u001b[0m\n",
      "\u001b[1;32m~\\anaconda3\\lib\\site-packages\\scipy\\optimize\\optimize.py\u001b[0m in \u001b[0;36mget_bracket_info\u001b[1;34m(self)\u001b[0m\n\u001b[0;32m   2169\u001b[0m             \u001b[0mfuncalls\u001b[0m \u001b[1;33m=\u001b[0m \u001b[1;36m3\u001b[0m\u001b[1;33m\u001b[0m\u001b[1;33m\u001b[0m\u001b[0m\n\u001b[0;32m   2170\u001b[0m         \u001b[1;32melse\u001b[0m\u001b[1;33m:\u001b[0m\u001b[1;33m\u001b[0m\u001b[1;33m\u001b[0m\u001b[0m\n\u001b[1;32m-> 2171\u001b[1;33m             raise ValueError(\"Bracketing interval must be \"\n\u001b[0m\u001b[0;32m   2172\u001b[0m                              \"length 2 or 3 sequence.\")\n\u001b[0;32m   2173\u001b[0m         \u001b[1;31m### END core bracket_info code ###\u001b[0m\u001b[1;33m\u001b[0m\u001b[1;33m\u001b[0m\u001b[0m\n",
      "\u001b[1;31mValueError\u001b[0m: Bracketing interval must be length 2 or 3 sequence."
     ]
    }
   ],
   "source": [
    "(obj, bracket=(0.01,0.9), method=\"brent\")\n",
    "    \n",
    "f = lambda x: np.sin(x)  # function to be MAXIMIZED\n",
    "res = minimize(lambda x: -f(x), 0)\n",
    "print('Maximum {} attained at {}'.format(-res.fun, res.x))\n",
    "\n",
    "#Defining the objective function using the above definitions\n",
    "\n",
    "x_guess = [0]\n",
    "obj= lambda q: -exp_value(q,x[0],mp)\n",
    "solution = optimize.minimize_scalar(obj, x_guess, method=\"brent\")\n",
    "x=res.x[0]\n",
    "f=-res.fun"
   ]
  },
  {
   "cell_type": "code",
   "execution_count": 5,
   "id": "efb4219f",
   "metadata": {},
   "outputs": [
    {
     "ename": "IndentationError",
     "evalue": "expected an indented block (Temp/ipykernel_30956/2926366626.py, line 5)",
     "output_type": "error",
     "traceback": [
      "\u001b[1;36m  File \u001b[1;32m\"C:\\Users\\Kerem\\AppData\\Local\\Temp/ipykernel_30956/2926366626.py\"\u001b[1;36m, line \u001b[1;32m5\u001b[0m\n\u001b[1;33m    return -3*(x-2)**2 + 1\u001b[0m\n\u001b[1;37m    ^\u001b[0m\n\u001b[1;31mIndentationError\u001b[0m\u001b[1;31m:\u001b[0m expected an indented block\n"
     ]
    }
   ],
   "source": [
    "#Defining new utility function for the agent\n",
    "\n",
    "def f_func(q):\n",
    "    \n",
    "return -3*(x-2)**2 + 1\n",
    "\n",
    "obj = lambda q: -f_func(q) \n",
    "\n",
    "\n",
    "\n",
    "res= optimize.minimize_scalar(obj, bracket=(0.01,0.9), method='brent')\n",
    "\n",
    "obj = lambda x: -f_func(q) # here the input is a scalar\n",
    "res = optimize.minimize_scalar(obj,bracket=(-10,10),method='brent')\n",
    "x = res.x\n",
    "f = -res.fun\n",
    "\n",
    "print(f'best is {f:.8f} at x = {x:.8f}')\n",
    "\n",
    "\n",
    "def u(q,x,y,p,phi):\n",
    "        return (p*u(y-x+q-x(p,q))+(1-p)u(y-x(p,q)))"
   ]
  },
  {
   "cell_type": "code",
   "execution_count": 3,
   "id": "e3e346bd",
   "metadata": {},
   "outputs": [
    {
     "ename": "SyntaxError",
     "evalue": "invalid syntax (Temp/ipykernel_25040/2159611349.py, line 10)",
     "output_type": "error",
     "traceback": [
      "\u001b[1;36m  File \u001b[1;32m\"C:\\Users\\Kerem\\AppData\\Local\\Temp/ipykernel_25040/2159611349.py\"\u001b[1;36m, line \u001b[1;32m10\u001b[0m\n\u001b[1;33m    def value_of_choice(y,p,phi)\u001b[0m\n\u001b[1;37m                                 ^\u001b[0m\n\u001b[1;31mSyntaxError\u001b[0m\u001b[1;31m:\u001b[0m invalid syntax\n"
     ]
    }
   ],
   "source": [
    "#1. Question\n",
    "#Making a dictionary for 6 parameters:\n",
    "\n",
    "parameters= {\"y\": 1, \"p\":0.2, \"phi\":-2}\n",
    "\n",
    "print(parameters)\n",
    "\n",
    "#Constructing the function that solves the household's problem\n",
    "\n",
    "\n",
    "def value_of_choice(y,p,phi) \n",
    "\n",
    "def u(y,p,phi=1):\n",
    "    return (*x1**(-beta) + (1-alpha)*x2**(-beta))**(-1/beta)\n",
    "\n",
    "def u_func(y,x)\n",
    "    return (y-x)\n",
    "\n",
    "def v_null(p=0.2,u,y)\n",
    "    return p*u+(1-p)*(y)\n",
    "\n",
    "\n",
    "def u_func(,x2,alpha=0.50):\n",
    "    return x1**alpha*x2**(1-alpha)\n",
    "             "
   ]
  },
  {
   "cell_type": "code",
   "execution_count": 9,
   "id": "84f5dadb",
   "metadata": {},
   "outputs": [
    {
     "name": "stdout",
     "output_type": "stream",
     "text": [
      "0.044332937692122744 0.49999553788108364\n"
     ]
    }
   ],
   "source": [
    "m =  0.5\n",
    "phi = 0.3\n",
    "epsi =0.5\n",
    "r = 0.03\n",
    "tg = 0.012\n",
    "tp = 0.004\n",
    "pbar = 3\n",
    "\n",
    "def value_of_choice(ph,m,phi,epsi,r,tg,tp,pbar):\n",
    "    \n",
    "    # a. all income not spent on the first good\n",
    "    #    is spent on the second\n",
    "    c = ((1-phi)*ph*(r+epsi*(tg+tp)))/phi\n",
    "    \n",
    "    utility = ph**phi * c**(1-phi)\n",
    "    \n",
    "    return utility\n",
    "\n",
    "from scipy import optimize\n",
    "\n",
    "# b. make value-of-choice as a funciton of only x1 \n",
    "obj = lambda ph: -value_of_choice(ph,m,phi,epsi,r,tg,tp,pbar)\n",
    "\n",
    "# c. call minimizer\n",
    "solution = optimize.minimize_scalar(obj, bounds=(0,m), method='bounded')\n",
    "\n",
    "# d. print result                   \n",
    "ph = solution.x\n",
    "c = ((1-phi)*ph*(r+epsi*(tg+tp)))/phi\n",
    "print(c,ph)"
   ]
  },
  {
   "cell_type": "code",
   "execution_count": null,
   "id": "2eb1aef7",
   "metadata": {},
   "outputs": [],
   "source": [
    "from sympy import symbols, cos, diff\n",
    "\n",
    "a, b, c = symbols('a b c', real=True)\n",
    "f = 5*a*b - a*cos(c) + a**2 + c**8*b\n",
    "\n",
    "#differntiating function f in respect to a\n",
    "print(diff(f, a))"
   ]
  }
 ],
 "metadata": {
  "kernelspec": {
   "display_name": "Python 3 (ipykernel)",
   "language": "python",
   "name": "python3"
  },
  "language_info": {
   "codemirror_mode": {
    "name": "ipython",
    "version": 3
   },
   "file_extension": ".py",
   "mimetype": "text/x-python",
   "name": "python",
   "nbconvert_exporter": "python",
   "pygments_lexer": "ipython3",
   "version": "3.9.7"
  }
 },
 "nbformat": 4,
 "nbformat_minor": 5
}

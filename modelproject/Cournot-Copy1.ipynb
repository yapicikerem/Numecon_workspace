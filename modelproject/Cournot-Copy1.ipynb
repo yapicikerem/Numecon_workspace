{
 "cells": [
  {
   "cell_type": "code",
   "execution_count": 3,
   "id": "6da72e82-8ebf-4acb-8401-235aced1e0a2",
   "metadata": {},
   "outputs": [],
   "source": [
    "from scipy import optimize,arange\n",
    "from numpy import array\n",
    "import matplotlib.pyplot as plt\n",
    "import numpy as np"
   ]
  },
  {
   "cell_type": "code",
   "execution_count": 4,
   "id": "39636596-f4f3-4d19-8b9a-27658ae7bc39",
   "metadata": {
    "tags": []
   },
   "outputs": [],
   "source": [
    "def demand(x1,x2):\n",
    "    return 120-(x1+x2)\n",
    "\n",
    "def cost(x):\n",
    "    return 30*x"
   ]
  },
  {
   "cell_type": "code",
   "execution_count": 5,
   "id": "44d6ced9-fa22-448c-8e0e-0babdbec1694",
   "metadata": {
    "tags": []
   },
   "outputs": [],
   "source": [
    "def profit(x1,x2):\n",
    "    return demand(x1,x2)*x1-cost(x1)"
   ]
  },
  {
   "cell_type": "code",
   "execution_count": 6,
   "id": "787d4e83-5795-4b6f-a5ac-8011b179f8da",
   "metadata": {},
   "outputs": [],
   "source": [
    "def reaction(x2):\n",
    "    x1 = (90-x2)/2\n",
    "    return x1"
   ]
  },
  {
   "cell_type": "code",
   "execution_count": 7,
   "id": "087ac593-8687-4c5a-ab4b-06c351845989",
   "metadata": {},
   "outputs": [],
   "source": [
    "def vector_reaction(x):\n",
    "    return array(x)-array([reaction(x[1]),reaction(x[0])])"
   ]
  },
  {
   "cell_type": "code",
   "execution_count": 8,
   "id": "cbf380e1-47ea-4035-a048-1399336098a3",
   "metadata": {},
   "outputs": [
    {
     "name": "stdout",
     "output_type": "stream",
     "text": [
      "[30. 30.]\n"
     ]
    }
   ],
   "source": [
    "x0 = [40, 40]\n",
    "\n",
    "results = optimize.fsolve(vector_reaction, x0)\n",
    "print(results)"
   ]
  },
  {
   "cell_type": "code",
   "execution_count": 9,
   "id": "90041f83-9655-4fe6-b814-7a24f5c612a6",
   "metadata": {},
   "outputs": [
    {
     "name": "stdout",
     "output_type": "stream",
     "text": [
      "The profit is 900\n"
     ]
    }
   ],
   "source": [
    "print('The profit is', profit(30,30))"
   ]
  },
  {
   "cell_type": "markdown",
   "id": "31d04e09-fd1a-4dd3-938c-7aae54e4e537",
   "metadata": {},
   "source": [
    "## Simulation"
   ]
  },
  {
   "cell_type": "code",
   "execution_count": 24,
   "id": "23b088fa-3ebc-4d93-b58b-e87750462892",
   "metadata": {},
   "outputs": [],
   "source": [
    "x_grid = np.linspace(10, 60, 100)\n",
    "xvalue = []\n",
    "profits = []\n",
    "\n",
    "for x in x_grid:\n",
    "    profit(x,x)\n",
    "    xvalue.append(x)\n",
    "    profits.append(profit(x,x))"
   ]
  },
  {
   "cell_type": "code",
   "execution_count": 25,
   "id": "7d6a4c80-3fe9-4743-9bcb-3b30af58686e",
   "metadata": {},
   "outputs": [
    {
     "name": "stdout",
     "output_type": "stream",
     "text": [
      "[700.0, 724.7423732272217, 748.4644424038363, 771.1662075298439, 792.8476686052444, 813.5088256300378, 833.1496786042239, 851.7702275278033, 869.3704724007755, 885.9504132231406, 901.5100499948985, 916.0493827160494, 929.5684113865933, 942.0671360065301, 953.5455565758596, 964.0036730945823, 973.4414855626978, 981.8589939802063, 989.2561983471076, 995.6330986634016, 1000.9896949290888, 1005.325987144169, 1008.641975308642, 1010.9376594225079, 1012.2130394857667, 1012.4681154984185, 1011.702887460463, 1009.9173553719007, 1007.1115192327311, 1003.2853790429546, 998.438934802571, 992.5721865115802, 985.6851341699825, 977.7777777777776, 968.8501173349655, 958.9021528415466, 947.9338842975205, 935.9453117028874, 922.9364350576471, 908.9072543617997, 893.8577696153453, 877.7879808182838, 860.697887970615, 842.5874910723395, 823.4567901234565, 803.3057851239666, 782.1344760738696, 759.9428629731657, 736.7309458218549, 712.4987246199366, 687.2461993674115, 660.9733700642792, 633.6802367105397, 605.3667993061933, 576.0330578512396, 545.679012345679, 514.3046627895112, 481.9100091827363, 448.4950515253545, 414.0597898173655, 378.6042240587692, 342.1283542495662, 304.63218038975606, 266.1157024793388, 226.57892051831436, 186.0218345066828, 144.44444444444434, 101.84675033159851, 58.228752168145775, 13.590449954086125, -32.06815631058089, -78.74706662585459, -126.44628099173588, -175.16579940822407, -224.90562187531918, -275.66574839302143, -327.44617896133104, -380.24691358024734, -434.067952249771, -488.90929496990134, -544.7709417406392, -601.652892561984, -659.5551474339358, -718.4777063564948, -778.4205693296609, -839.3837363534338, -901.3672074278142, -964.3709825528014, -1028.3950617283958, -1093.4394449545973, -1159.5041322314057, -1226.5891235588213, -1294.6944189368442, -1363.8200183654737, -1433.9659218447107, -1505.1321293745546, -1577.3186409550044, -1650.5254565860628, -1724.7525762677276, -1800.0]\n",
      "[15.0, 15.454545454545455, 15.909090909090908, 16.363636363636363, 16.818181818181817, 17.272727272727273, 17.727272727272727, 18.18181818181818, 18.636363636363637, 19.09090909090909, 19.545454545454547, 20.0, 20.454545454545453, 20.90909090909091, 21.363636363636363, 21.81818181818182, 22.272727272727273, 22.727272727272727, 23.18181818181818, 23.636363636363637, 24.09090909090909, 24.545454545454547, 25.0, 25.454545454545453, 25.909090909090907, 26.363636363636363, 26.81818181818182, 27.272727272727273, 27.727272727272727, 28.18181818181818, 28.636363636363637, 29.09090909090909, 29.545454545454547, 30.0, 30.454545454545453, 30.909090909090907, 31.363636363636363, 31.818181818181817, 32.27272727272727, 32.72727272727273, 33.18181818181818, 33.63636363636364, 34.09090909090909, 34.54545454545455, 35.0, 35.45454545454545, 35.90909090909091, 36.36363636363636, 36.81818181818181, 37.27272727272727, 37.72727272727273, 38.18181818181818, 38.63636363636364, 39.09090909090909, 39.54545454545455, 40.0, 40.45454545454545, 40.90909090909091, 41.36363636363636, 41.81818181818181, 42.27272727272727, 42.72727272727273, 43.18181818181818, 43.63636363636364, 44.09090909090909, 44.54545454545455, 45.0, 45.45454545454545, 45.90909090909091, 46.36363636363636, 46.81818181818181, 47.27272727272727, 47.72727272727273, 48.18181818181818, 48.63636363636363, 49.090909090909086, 49.54545454545455, 50.0, 50.45454545454545, 50.90909090909091, 51.36363636363636, 51.81818181818182, 52.27272727272727, 52.72727272727273, 53.18181818181818, 53.63636363636363, 54.090909090909086, 54.54545454545455, 55.0, 55.45454545454545, 55.90909090909091, 56.36363636363636, 56.81818181818182, 57.27272727272727, 57.72727272727273, 58.18181818181818, 58.63636363636363, 59.090909090909086, 59.54545454545455, 60.0]\n"
     ]
    }
   ],
   "source": [
    "print(profits)\n",
    "print(x2value)"
   ]
  },
  {
   "cell_type": "code",
   "execution_count": 33,
   "id": "bfbe5e34-1ea0-4548-9796-36d7a124d44e",
   "metadata": {},
   "outputs": [
    {
     "data": {
      "text/plain": [
       "[<matplotlib.lines.Line2D at 0x7fb6283d07c0>]"
      ]
     },
     "execution_count": 33,
     "metadata": {},
     "output_type": "execute_result"
    },
    {
     "data": {
      "image/png": "[encoded data removed]",
      "text/plain": [
       "<Figure size 432x288 with 1 Axes>"
      ]
     },
     "metadata": {
      "needs_background": "light"
     },
     "output_type": "display_data"
    }
   ],
   "source": [
    "fig = plt.figure()\n",
    "ax = fig.add_subplot(1,1,1)\n",
    "ax.plot(xvalue,profits)"
   ]
  },
  {
   "cell_type": "code",
   "execution_count": 39,
   "id": "4de01228-c18d-4334-9a87-60dc811b1184",
   "metadata": {},
   "outputs": [
    {
     "name": "stdout",
     "output_type": "stream",
     "text": [
      "The optimal proft occurs when the two companies collude and produce 22.63 units and gaining 1012.47 as profits\n"
     ]
    }
   ],
   "source": [
    "optimum_profit = max(profits)\n",
    "optimum_quantity = xvalue[profits.index(max(profits))]\n",
    "\n",
    "print('The optimal proft occurs when the two companies collude and produce', \"%.2f\" % optimum_quantity, 'units and gaining', \"%.2f\" % optimum_profit, 'as profits')"
   ]
  },
  {
   "cell_type": "code",
   "execution_count": null,
   "id": "37e8f613-f269-4abc-a6d2-097c019f67a8",
   "metadata": {},
   "outputs": [],
   "source": []
  }
 ],
 "metadata": {
  "kernelspec": {
   "display_name": "Python 3 (ipykernel)",
   "language": "python",
   "name": "python3"
  },
  "language_info": {
   "codemirror_mode": {
    "name": "ipython",
    "version": 3
   },
   "file_extension": ".py",
   "mimetype": "text/x-python",
   "name": "python",
   "nbconvert_exporter": "python",
   "pygments_lexer": "ipython3",
   "version": "3.9.7"
  }
 },
 "nbformat": 4,
 "nbformat_minor": 5
}

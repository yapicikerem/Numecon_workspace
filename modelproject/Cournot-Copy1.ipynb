{
 "cells": [
  {
   "cell_type": "code",
   "execution_count": 72,
   "id": "10e242bf-389a-4715-8e80-440df4b24936",
   "metadata": {},
   "outputs": [],
   "source": [
    "from scipy import optimize,arange\n",
    "from numpy import array\n",
    "import matplotlib.pyplot as plt\n",
    "import numpy as np\n",
    "plt.style.use('seaborn-whitegrid')"
   ]
  },
  {
   "cell_type": "markdown",
   "id": "c233b875-94fc-4e4c-8e9b-3e9e7b93cf5c",
   "metadata": {},
   "source": [
    "## Baseline model - Cournot Competition"
   ]
  },
  {
   "cell_type": "code",
   "execution_count": 73,
   "id": "39636596-f4f3-4d19-8b9a-27658ae7bc39",
   "metadata": {
    "tags": []
   },
   "outputs": [],
   "source": [
    "def demand_good_x(xi,xj):\n",
    "    \"\"\"\n",
    "    This function decides the demand given the quantity produced by firms i and j. This means that this function decides\n",
    "    the price of the good. This works because the goods are homogenous and operate under the same market.\n",
    "    \n",
    "    xi: The good produced by firm i\n",
    "    xj: The good produced by firm j\n",
    "    120: This constant defines the quantity for which demand and thereby the price is equal to zero\n",
    "    \"\"\"\n",
    "    return 120-(xi+xj)\n",
    "\n",
    "\n",
    "def cost_good_x(x):\n",
    "    \"\"\"\n",
    "    This is the cost function that defines the production costs of good x given the amount produced. \n",
    "    The function is of such form that is only catches variable cost, and that there therefore is no fixed costs.\n",
    "    \n",
    "    x: the quantity of good x\n",
    "    \"\"\"\n",
    "    return 30*x"
   ]
  },
  {
   "cell_type": "code",
   "execution_count": 74,
   "id": "44d6ced9-fa22-448c-8e0e-0babdbec1694",
   "metadata": {
    "tags": []
   },
   "outputs": [],
   "source": [
    "def profit(xi,xj):\n",
    "    \"\"\"\n",
    "    This profit function is of the original form and is used to find the optimal production.\n",
    "    \n",
    "    xi: The good produced by firm i\n",
    "    xj: The good produced by firm j\n",
    "    \"\"\"\n",
    "    return demand_good_x(xi,xj)*xi-cost_good_x(xi)"
   ]
  },
  {
   "cell_type": "code",
   "execution_count": 75,
   "id": "787d4e83-5795-4b6f-a5ac-8011b179f8da",
   "metadata": {},
   "outputs": [],
   "source": [
    "def best_response(xj):\n",
    "    \"\"\"\n",
    "    This function is derived from the profit function by taking the derevation with regards to xi and isolating xi.\n",
    "    \n",
    "    xi: The good produced by firm i\n",
    "    xj: The good produced by firm j\n",
    "    \"\"\"\n",
    "    xi = (90-xj)/2\n",
    "    return xi"
   ]
  },
  {
   "cell_type": "code",
   "execution_count": 76,
   "id": "087ac593-8687-4c5a-ab4b-06c351845989",
   "metadata": {},
   "outputs": [],
   "source": [
    "def vector_best_response(x):\n",
    "    \"\"\"\n",
    "    Now we take the best response functions and generating a vector containing them this is then used to solve the system\n",
    "    of functions that are driven from earlier functions. Because we are looking for the vector best responce, we minus the\n",
    "    response functions from an x.\n",
    "    \n",
    "    x: creating the difference equation that is optimized.\n",
    "    \"\"\"\n",
    "    return array(x)-array([best_response(x[1]),best_response(x[0])])"
   ]
  },
  {
   "cell_type": "code",
   "execution_count": 77,
   "id": "cbf380e1-47ea-4035-a048-1399336098a3",
   "metadata": {},
   "outputs": [
    {
     "name": "stdout",
     "output_type": "stream",
     "text": [
      "[30. 30.]\n"
     ]
    }
   ],
   "source": [
    "x0 = [40, 40]\n",
    "results = optimize.fsolve(vector_reaction, x0)\n",
    "print(results)"
   ]
  },
  {
   "cell_type": "code",
   "execution_count": 78,
   "id": "90041f83-9655-4fe6-b814-7a24f5c612a6",
   "metadata": {},
   "outputs": [
    {
     "name": "stdout",
     "output_type": "stream",
     "text": [
      "The profit is 900.0\n"
     ]
    }
   ],
   "source": [
    "print('The profit is', profit(results[0],results[1]))"
   ]
  },
  {
   "cell_type": "markdown",
   "id": "31d04e09-fd1a-4dd3-938c-7aae54e4e537",
   "metadata": {},
   "source": [
    "## Simulation 1 - Collusion"
   ]
  },
  {
   "cell_type": "code",
   "execution_count": 126,
   "id": "23b088fa-3ebc-4d93-b58b-e87750462892",
   "metadata": {},
   "outputs": [],
   "source": [
    "x_grid = np.linspace(10, 45, 100)\n",
    "xvalue = []\n",
    "profits = []\n",
    "\n",
    "for x in x_grid:\n",
    "    profit(x,x)\n",
    "    xvalue.append(x)\n",
    "    profits.append(profit(x,x))"
   ]
  },
  {
   "cell_type": "code",
   "execution_count": null,
   "id": "7d6a4c80-3fe9-4743-9bcb-3b30af58686e",
   "metadata": {},
   "outputs": [],
   "source": []
  },
  {
   "cell_type": "code",
   "execution_count": 131,
   "id": "bfbe5e34-1ea0-4548-9796-36d7a124d44e",
   "metadata": {},
   "outputs": [
    {
     "data": {
      "text/plain": [
       "<matplotlib.collections.PolyCollection at 0x7f7e80157550>"
      ]
     },
     "execution_count": 131,
     "metadata": {},
     "output_type": "execute_result"
    },
    {
     "data": {
      "image/png": "[encoded data removed]",
      "text/plain": [
       "<Figure size 640x400 with 1 Axes>"
      ]
     },
     "metadata": {},
     "output_type": "display_data"
    }
   ],
   "source": [
    "fig = plt.figure(figsize=(8, 5), dpi=80)\n",
    "ax = fig.add_subplot(1,1,1)\n",
    "ax.plot(xvalue,profits)\n",
    "ax.set_xlabel('x-value')\n",
    "ax.set_ylabel('Profit')\n",
    "ax.set_title('Profit under collusion')\n",
    "ax.axvline(x=22.63, color='green',linestyle = 'dashed')\n",
    "ax.scatter(22.63,1012.47, color='black')\n",
    "ax.fill_between(xvalue,profits, alpha=0.15)"
   ]
  },
  {
   "cell_type": "code",
   "execution_count": 81,
   "id": "4de01228-c18d-4334-9a87-60dc811b1184",
   "metadata": {},
   "outputs": [
    {
     "name": "stdout",
     "output_type": "stream",
     "text": [
      "The optimal proft occurs when the two companies collude and produce 22.63 units and gaining 1012.47 as profits\n"
     ]
    }
   ],
   "source": [
    "optimum_profit = max(profits)\n",
    "optimum_quantity = xvalue[profits.index(max(profits))]\n",
    "\n",
    "print('The optimal proft occurs when the two companies collude and produce', \"%.2f\" % optimum_quantity, 'units and gaining', \"%.2f\" % optimum_profit, 'as profits')"
   ]
  },
  {
   "cell_type": "markdown",
   "id": "072230f0-f9ca-4b43-961f-67c42cd0286b",
   "metadata": {},
   "source": [
    "## Simulation 2 - Deviation from collusion"
   ]
  },
  {
   "cell_type": "code",
   "execution_count": 82,
   "id": "199a7f54-4ea0-4763-aae4-7bad24ce03af",
   "metadata": {},
   "outputs": [],
   "source": [
    "x_grid = np.linspace(10, 60, 100)\n",
    "xvalue_deviate = []\n",
    "profits_deviate = []\n",
    "\n",
    "for x in x_grid:\n",
    "    xvalue_deviate.append(x)\n",
    "    profits_deviate.append(profit(x,22.62))"
   ]
  },
  {
   "cell_type": "code",
   "execution_count": null,
   "id": "1d6cbbd8-e634-4da7-ba92-994ced05ad25",
   "metadata": {},
   "outputs": [],
   "source": []
  },
  {
   "cell_type": "code",
   "execution_count": 143,
   "id": "6b58b814-3b8a-4f99-ba6c-1139f642e53c",
   "metadata": {},
   "outputs": [
    {
     "data": {
      "text/plain": [
       "<matplotlib.collections.PolyCollection at 0x7f7ed0923850>"
      ]
     },
     "execution_count": 143,
     "metadata": {},
     "output_type": "execute_result"
    },
    {
     "data": {
      "image/png": "[encoded data removed]",
      "text/plain": [
       "<Figure size 640x400 with 1 Axes>"
      ]
     },
     "metadata": {},
     "output_type": "display_data"
    }
   ],
   "source": [
    "fig = plt.figure(figsize=(8, 5), dpi=80)\n",
    "ax = fig.add_subplot(1,1,1)\n",
    "ax.plot(xvalue_deviate,profits_deviate)\n",
    "ax.set_xlabel('x-value', fontsize=12)\n",
    "ax.set_ylabel('Profit', fontsize=12)\n",
    "ax.set_title('Profit under deviation from collusion', fontsize=18, color='black')\n",
    "ax.axvline(x=33.74, color='red',linestyle = 'dashed')\n",
    "ax.scatter(33.74,1135.01, color='black')\n",
    "ax.fill_between(xvalue_deviate,profits_deviate, color='pink', alpha=0.15)"
   ]
  },
  {
   "cell_type": "code",
   "execution_count": 69,
   "id": "b4e0245f-0042-4254-90f7-87894bd5a018",
   "metadata": {},
   "outputs": [
    {
     "name": "stdout",
     "output_type": "stream",
     "text": [
      "Profit = 1135.013855729007 and quantity for firm i =  33.737373737373744\n"
     ]
    }
   ],
   "source": [
    "optimum_deviated_profit = max(profits_deviate)\n",
    "optimum_deviated_quantity = xvalue_deviate[profits_deviate.index(max(profits_deviate))]\n",
    "\n",
    "print('Profit =', optimum_deviated_profit, 'and quantity for firm i = ', optimum_deviated_quantity)"
   ]
  },
  {
   "cell_type": "code",
   "execution_count": 70,
   "id": "f361226c-0bb0-4e5f-91ca-955d2a5bd2fa",
   "metadata": {},
   "outputs": [],
   "source": [
    "profit_collude = optimum_profit+optimum_profit\n",
    "profit_deviate = profit(33.74,22.62)+profit(22.62,33.74)"
   ]
  },
  {
   "cell_type": "code",
   "execution_count": 71,
   "id": "3da4de10-fa1c-491d-8143-78e62a0df14a",
   "metadata": {},
   "outputs": [
    {
     "name": "stdout",
     "output_type": "stream",
     "text": [
      "2024.936230996837 1895.9504000000002\n"
     ]
    }
   ],
   "source": [
    "print(profit_collude, profit_deviate)"
   ]
  },
  {
   "cell_type": "code",
   "execution_count": null,
   "id": "8614e153-b2a9-438c-9667-e7c66a299f77",
   "metadata": {},
   "outputs": [],
   "source": []
  }
 ],
 "metadata": {
  "kernelspec": {
   "display_name": "Python 3 (ipykernel)",
   "language": "python",
   "name": "python3"
  },
  "language_info": {
   "codemirror_mode": {
    "name": "ipython",
    "version": 3
   },
   "file_extension": ".py",
   "mimetype": "text/x-python",
   "name": "python",
   "nbconvert_exporter": "python",
   "pygments_lexer": "ipython3",
   "version": "3.9.7"
  }
 },
 "nbformat": 4,
 "nbformat_minor": 5
}

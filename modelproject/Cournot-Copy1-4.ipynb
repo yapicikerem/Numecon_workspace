{
 "cells": [
  {
   "cell_type": "code",
   "execution_count": 42,
   "id": "10e242bf-389a-4715-8e80-440df4b24936",
   "metadata": {},
   "outputs": [
    {
     "name": "stdout",
     "output_type": "stream",
     "text": [
      "Requirement already satisfied: tabulate in /Users/nielslund-andersen/opt/anaconda3/lib/python3.9/site-packages (0.8.9)\n"
     ]
    }
   ],
   "source": [
    "from scipy import optimize,arange\n",
    "from numpy import array\n",
    "import matplotlib.pyplot as plt\n",
    "import numpy as np\n",
    "plt.style.use('seaborn-whitegrid')\n",
    "!pip install tabulate\n",
    "from tabulate import tabulate\n",
    "import sympy as sm"
   ]
  },
  {
   "cell_type": "markdown",
   "id": "c233b875-94fc-4e4c-8e9b-3e9e7b93cf5c",
   "metadata": {},
   "source": [
    "## Baseline model - Cournot Competition"
   ]
  },
  {
   "cell_type": "code",
   "execution_count": 43,
   "id": "318b5d4e-f2d9-4e5a-af98-28dfd22df479",
   "metadata": {
    "tags": []
   },
   "outputs": [],
   "source": [
    "def profit(xi,xj):\n",
    "    \"\"\"\n",
    "    This profit function is of the original form and is used to find the optimal production.\n",
    "    \n",
    "    xi: The good produced by firm i\n",
    "    xj: The good produced by firm j\n",
    "    \"\"\"\n",
    "    return demand_good_x(xi,xj)*xi-cost_good_x(xi)"
   ]
  },
  {
   "cell_type": "code",
   "execution_count": 51,
   "id": "6aac4a8e-7f80-4d6c-adc7-68f0dd845ff7",
   "metadata": {
    "tags": []
   },
   "outputs": [],
   "source": [
    "i = sm.symbols('i')\n",
    "j = sm.symbols('j')"
   ]
  },
  {
   "cell_type": "code",
   "execution_count": 52,
   "id": "c4703c21-a70d-4084-ae29-3bd180f118c3",
   "metadata": {
    "tags": []
   },
   "outputs": [],
   "source": [
    "profit_i = (120-(i+j))*i-30*i\n",
    "profit_j = (120-(i+j))*j-30*j"
   ]
  },
  {
   "cell_type": "code",
   "execution_count": 53,
   "id": "6f79a876-2d14-42ac-bd40-b807bdee0336",
   "metadata": {
    "tags": []
   },
   "outputs": [],
   "source": [
    "foci = sm.diff(profit_i,i)\n",
    "focj = sm.diff(profit_j,j)"
   ]
  },
  {
   "cell_type": "code",
   "execution_count": 54,
   "id": "a0514612-98a5-4ad5-8261-efbc015f20a5",
   "metadata": {
    "tags": []
   },
   "outputs": [
    {
     "data": {
      "text/latex": [
       "$\\displaystyle - 2 i - j + 90 = 0$"
      ],
      "text/plain": [
       "Eq(-2*i - j + 90, 0)"
      ]
     },
     "metadata": {},
     "output_type": "display_data"
    },
    {
     "data": {
      "text/latex": [
       "$\\displaystyle - i - 2 j + 90 = 0$"
      ],
      "text/plain": [
       "Eq(-i - 2*j + 90, 0)"
      ]
     },
     "metadata": {},
     "output_type": "display_data"
    }
   ],
   "source": [
    "foci_eq = sm.Eq(foci,0)\n",
    "focj_eq = sm.Eq(focj,0)\n",
    "display(foci_eq, focj_eq)"
   ]
  },
  {
   "cell_type": "code",
   "execution_count": 55,
   "id": "89ccabeb-a946-4bfc-a2d0-1526cc56201f",
   "metadata": {
    "tags": []
   },
   "outputs": [
    {
     "data": {
      "text/latex": [
       "$\\displaystyle 45 - \\frac{3 i}{2} = 0$"
      ],
      "text/plain": [
       "Eq(45 - 3*i/2, 0)"
      ]
     },
     "metadata": {},
     "output_type": "display_data"
    }
   ],
   "source": [
    "insert = foci_eq.subs(j,brj)\n",
    "display(insert)"
   ]
  },
  {
   "cell_type": "code",
   "execution_count": 56,
   "id": "1747588f-888e-464a-82f9-24cbfcbc935c",
   "metadata": {
    "tags": []
   },
   "outputs": [
    {
     "data": {
      "text/plain": [
       "[30]"
      ]
     },
     "metadata": {},
     "output_type": "display_data"
    }
   ],
   "source": [
    "x = sm.solve(insert,i)\n",
    "display(x)"
   ]
  },
  {
   "cell_type": "code",
   "execution_count": 57,
   "id": "763460c4-5237-43f9-9fa7-21fb9f974448",
   "metadata": {
    "tags": []
   },
   "outputs": [],
   "source": [
    "def demand_good_x(xi,xj):\n",
    "    \"\"\"\n",
    "    This function decides the demand given the quantity produced by firms i and j. This means that this function decides\n",
    "    the price of the good. This works because the goods are homogenous and operate under the same market.\n",
    "    \n",
    "    xi: The good produced by firm i\n",
    "    xj: The good produced by firm j\n",
    "    120: This constant defines the quantity for which demand and thereby the price is equal to zero\n",
    "    \"\"\"\n",
    "    return 120-(xi+xj)\n",
    "\n",
    "\n",
    "def cost_good_x(x):\n",
    "    \"\"\"\n",
    "    This is the cost function that defines the production costs of good x given the amount produced. \n",
    "    The function is of such form that is only catches variable cost, and that there therefore is no fixed costs.\n",
    "    \n",
    "    x: the quantity of good x\n",
    "    \"\"\"\n",
    "    return 30*x"
   ]
  },
  {
   "cell_type": "code",
   "execution_count": null,
   "id": "44d6ced9-fa22-448c-8e0e-0babdbec1694",
   "metadata": {
    "tags": []
   },
   "outputs": [],
   "source": [
    "def profit(xi,xj):\n",
    "    \"\"\"\n",
    "    This profit function is of the original form and is used to find the optimal production.\n",
    "    \n",
    "    xi: The good produced by firm i\n",
    "    xj: The good produced by firm j\n",
    "    \"\"\"\n",
    "    return demand_good_x(xi,xj)*xi-cost_good_x(xi)"
   ]
  },
  {
   "cell_type": "code",
   "execution_count": null,
   "id": "787d4e83-5795-4b6f-a5ac-8011b179f8da",
   "metadata": {},
   "outputs": [],
   "source": [
    "def best_response(xj):\n",
    "    \"\"\"\n",
    "    This function is derived from the profit function by taking the derevation with regards to xi and isolating xi.\n",
    "    \n",
    "    xi: The good produced by firm i\n",
    "    xj: The good produced by firm j\n",
    "    \"\"\"\n",
    "    xi = (90-xj)/2\n",
    "    return xi"
   ]
  },
  {
   "cell_type": "code",
   "execution_count": null,
   "id": "087ac593-8687-4c5a-ab4b-06c351845989",
   "metadata": {},
   "outputs": [],
   "source": [
    "def vector_best_response(x):\n",
    "    \"\"\"\n",
    "    Now we take the best response functions and generating a vector containing them this is then used to solve the system\n",
    "    of functions that are driven from earlier functions. Because we are looking for the vector best responce, we minus the\n",
    "    response functions from an x.\n",
    "    \n",
    "    x: creating the difference equation that is optimized.\n",
    "    \"\"\"\n",
    "    return array(x)-array([best_response(x[1]),best_response(x[0])])"
   ]
  },
  {
   "cell_type": "code",
   "execution_count": null,
   "id": "cbf380e1-47ea-4035-a048-1399336098a3",
   "metadata": {},
   "outputs": [],
   "source": [
    "x0 = [40, 40]\n",
    "results = optimize.fsolve(vector_best_response, x0)\n",
    "print(results)"
   ]
  },
  {
   "cell_type": "code",
   "execution_count": null,
   "id": "21ab8500-6abc-43f0-8ba4-0f1db95b8ba2",
   "metadata": {},
   "outputs": [],
   "source": [
    "print('The profit is', profit(results[0],results[1]))"
   ]
  },
  {
   "cell_type": "code",
   "execution_count": null,
   "id": "1d5eb19c-77a1-4b96-827b-863fb61d1cb3",
   "metadata": {},
   "outputs": [],
   "source": [
    "data = [[\"Nash Equilibrium\", 30, 30 , 900]]\n",
    "col_names = [\" \", \"Firm i's optimal goods\", \"Firm j's optimal goods\", \"Profit in Nash\"]\n",
    "print(tabulate(data, headers=col_names, tablefmt=\"fancy_grid\"))"
   ]
  },
  {
   "cell_type": "markdown",
   "id": "6eb6deea-ac32-41b1-a920-e355a46db648",
   "metadata": {},
   "source": [
    "## Extension 1 - Collusion"
   ]
  },
  {
   "cell_type": "code",
   "execution_count": 58,
   "id": "83ad904f-5951-41ae-9ce8-b6f7bc46b170",
   "metadata": {},
   "outputs": [],
   "source": [
    "profit_i = (120-(i+j))*i-30*i"
   ]
  },
  {
   "cell_type": "code",
   "execution_count": 59,
   "id": "5f327081-ff88-49e5-8354-0e4a18e573e9",
   "metadata": {},
   "outputs": [],
   "source": [
    "profit_x = profit_i.subs(j,i)"
   ]
  },
  {
   "cell_type": "code",
   "execution_count": 62,
   "id": "6b9965e9-4884-4c7e-9251-23145642a989",
   "metadata": {},
   "outputs": [],
   "source": [
    "maximize = sm.diff(profit_x,i)"
   ]
  },
  {
   "cell_type": "code",
   "execution_count": 66,
   "id": "5f112d83-231e-4825-b457-acdcc9d42736",
   "metadata": {},
   "outputs": [],
   "source": [
    "x_value = sm.solve(maximize,i)[0]\n",
    "display(x_value)"
   ]
  },
  {
   "cell_type": "code",
   "execution_count": 69,
   "id": "18b5989e-b043-4ead-bcc4-24febd1d2375",
   "metadata": {},
   "outputs": [
    {
     "data": {
      "text/plain": [
       "'Profit is'"
      ]
     },
     "metadata": {},
     "output_type": "display_data"
    },
    {
     "data": {
      "text/latex": [
       "$\\displaystyle \\frac{2025}{2}$"
      ],
      "text/plain": [
       "2025/2"
      ]
     },
     "metadata": {},
     "output_type": "display_data"
    }
   ],
   "source": [
    "profit_total = profit_x.subs(i,x_value)\n",
    "display('Profit is', profit_total)"
   ]
  },
  {
   "cell_type": "code",
   "execution_count": null,
   "id": "c048b5de-4eb2-4f4c-ada6-a18801d500a5",
   "metadata": {},
   "outputs": [],
   "source": [
    "def negative_profit_collusion(x): #Negative, because the minimizer underneath needs the negative value to find maximum.\n",
    "    return -(90*x-2*x**2)"
   ]
  },
  {
   "cell_type": "code",
   "execution_count": null,
   "id": "dda5c856-07b3-460a-9907-3d57d24c6ae2",
   "metadata": {},
   "outputs": [],
   "source": [
    "res = optimize.minimize_scalar(negative_profit_collusion)\n",
    "optimum_quantity = res.x\n",
    "optimum_profit = profit(optimum_quantity,optimum_quantity)\n",
    "print(optimum_quantity, optimum_profit)"
   ]
  },
  {
   "cell_type": "code",
   "execution_count": null,
   "id": "4de01228-c18d-4334-9a87-60dc811b1184",
   "metadata": {},
   "outputs": [],
   "source": [
    "print('The optimal proft occurs when the two companies collude and produce', \"%.2f\" % optimum_quantity, 'units and gaining', \"%.2f\" % optimum_profit, 'as profits')"
   ]
  },
  {
   "cell_type": "markdown",
   "id": "072230f0-f9ca-4b43-961f-67c42cd0286b",
   "metadata": {},
   "source": [
    "## Extension 2 - Deviation from collusion"
   ]
  },
  {
   "cell_type": "code",
   "execution_count": null,
   "id": "199a7f54-4ea0-4763-aae4-7bad24ce03af",
   "metadata": {},
   "outputs": [],
   "source": [
    "x_grid_deviate = np.linspace(10, 60, 100)\n",
    "xvalue_deviate = []\n",
    "profits_deviate = []\n",
    "\n",
    "for x in x_grid_deviate:\n",
    "    xvalue_deviate.append(x)\n",
    "    profits_deviate.append(profit(x,optimum_quantity))"
   ]
  },
  {
   "cell_type": "code",
   "execution_count": null,
   "id": "6b58b814-3b8a-4f99-ba6c-1139f642e53c",
   "metadata": {},
   "outputs": [],
   "source": [
    "optimum_deviated_profit = max(profits_deviate)\n",
    "optimum_deviated_quantity = xvalue_deviate[profits_deviate.index(max(profits_deviate))]\n",
    "\n",
    "fig = plt.figure(figsize=(8, 5), dpi=80)\n",
    "ax = fig.add_subplot(1,1,1)\n",
    "ax.plot(xvalue_deviate,profits_deviate)\n",
    "ax.set_xlabel('x-value', fontsize=12)\n",
    "ax.set_ylabel('Profit', fontsize=12)\n",
    "ax.set_title('Profit under deviation from collusion', fontsize=18, color='black')\n",
    "ax.axvline(x=optimum_deviated_quantity, color='red',linestyle = 'dashed')\n",
    "ax.scatter(optimum_deviated_quantity,optimum_deviated_profit, color='black')\n",
    "ax.fill_between(xvalue_deviate,profits_deviate, color='pink', alpha=0.15)"
   ]
  },
  {
   "cell_type": "code",
   "execution_count": null,
   "id": "b4e0245f-0042-4254-90f7-87894bd5a018",
   "metadata": {},
   "outputs": [],
   "source": [
    "print('Profit =', optimum_deviated_profit, 'and quantity for firm i = ', optimum_deviated_quantity)"
   ]
  },
  {
   "cell_type": "code",
   "execution_count": null,
   "id": "f361226c-0bb0-4e5f-91ca-955d2a5bd2fa",
   "metadata": {},
   "outputs": [],
   "source": [
    "profit_collude = optimum_profit+optimum_profit\n",
    "profit_deviate = optimum_deviated_profit+profit(optimum_quantity,optimum_deviated_quantity)"
   ]
  },
  {
   "cell_type": "code",
   "execution_count": null,
   "id": "73128d18-40c2-4c48-b62b-7f5c5def0406",
   "metadata": {},
   "outputs": [],
   "source": [
    "print(profit_collude, profit_deviate)"
   ]
  },
  {
   "cell_type": "markdown",
   "id": "f36873d4-cbb2-4f7e-8c6b-d6ff96f4ccd2",
   "metadata": {},
   "source": [
    "## Simulation - Trigger and Tit for tat strategy"
   ]
  },
  {
   "cell_type": "markdown",
   "id": "1dbb597c-5607-479f-b23f-da495bc6d0f8",
   "metadata": {},
   "source": [
    "### Trigger strategy\n",
    "\n",
    "The trigger strategy is a strategy that is used in the cournot problem. Basically, the two firms decide together that they are going til use the collusion strategy where they will get a bigger profit than if they just did the Nash equilibrium. This is conditioned on that fact that there is incentive to deviate. This means that if firm i decides to deviate, he will get a larger profit in one period, but then firm j will punish this behaviour by playing the Nash equilibrium where there is no incentive to deviate. This can be shown as seen below."
   ]
  },
  {
   "cell_type": "code",
   "execution_count": null,
   "id": "114e789d-a1fd-47fa-a6b1-4ddd417e5265",
   "metadata": {},
   "outputs": [],
   "source": [
    "t_grid = np.linspace(0, 49, 50)\n",
    "\n",
    "#Triggger\n",
    "profit_i_trig = []\n",
    "profit_j_trig = []\n",
    "\n",
    "for i in t_grid:\n",
    "    if i <= 20:\n",
    "        profit_i_trig.append(optimum_profit)\n",
    "        profit_j_trig.append(optimum_profit)\n",
    "    elif i == 21:\n",
    "        profit_i_trig.append(optimum_deviated_profit)\n",
    "        profit_j_trig.append(profit(optimum_quantity,optimum_deviated_quantity))\n",
    "    else:\n",
    "        profit_i_trig.append(profit(results[0],results[1]))\n",
    "        profit_j_trig.append(profit(results[0],results[1]))"
   ]
  },
  {
   "cell_type": "code",
   "execution_count": null,
   "id": "8d5727f0-3fe7-4021-abbf-900f01d35259",
   "metadata": {},
   "outputs": [],
   "source": [
    "fig = plt.figure(figsize=(8, 5), dpi=80)\n",
    "ax = fig.add_subplot(1,1,1)\n",
    "ax.plot(t_grid,profit_i_trig, profit_j_trig)"
   ]
  },
  {
   "cell_type": "code",
   "execution_count": null,
   "id": "dca943a2-d6a1-4901-b0c7-7ef2d359d807",
   "metadata": {},
   "outputs": [],
   "source": [
    "trig_i_cumulative = np.cumsum(profit_i_trig)\n",
    "trig_j_cumulative = np.cumsum(profit_j_trig)"
   ]
  },
  {
   "cell_type": "code",
   "execution_count": null,
   "id": "f7988659-43e9-4242-8e29-dc2b153686fc",
   "metadata": {},
   "outputs": [],
   "source": [
    "fig = plt.figure(figsize=(12, 8), dpi=80)\n",
    "ax = fig.add_subplot(1,1,1)\n",
    "ax.plot(t_grid,trig_i_cumulative, trig_j_cumulative)"
   ]
  },
  {
   "cell_type": "code",
   "execution_count": null,
   "id": "d3163e22-de45-4104-96a4-ca27fa297364",
   "metadata": {},
   "outputs": [],
   "source": [
    "t_grid = np.linspace(0, 49, 50)\n",
    "d_grid = np.linspace(0, 49, 50)\n",
    "\n",
    "#Triggger\n",
    "profit_i_trig_total = []\n",
    "profit_j_trig_total = []\n",
    "\n",
    "for j in d_grid:\n",
    "    \n",
    "    profit_i_trig = []\n",
    "    profit_j_trig = []\n",
    "\n",
    "    for i in t_grid:\n",
    "        if i <= (j-1):\n",
    "            profit_i_trig.append(optimum_profit)\n",
    "            profit_j_trig.append(optimum_profit)\n",
    "        elif i == j:\n",
    "            profit_i_trig.append(optimum_deviated_profit)\n",
    "            profit_j_trig.append(profit(optimum_quantity,optimum_deviated_quantity))\n",
    "        else:\n",
    "            profit_i_trig.append(profit(results[0],results[1]))\n",
    "            profit_j_trig.append(profit(results[0],results[1]))\n",
    "            \n",
    "    profit_i_trig_total.append(sum(profit_i_trig))\n",
    "    profit_j_trig_total.append(sum(profit_j_trig))"
   ]
  },
  {
   "cell_type": "code",
   "execution_count": null,
   "id": "a0c375ce-44cf-4ad7-b039-7b21ed44860f",
   "metadata": {},
   "outputs": [],
   "source": [
    "optimum_profit_trig = max(profit_i_trig_total)\n",
    "optimum_deviationperiod_trig = d_grid[profit_i_trig_total.index(max(profit_i_trig_total))]\n",
    "\n",
    "fig = plt.figure(figsize=(12, 8), dpi=80)\n",
    "ax = fig.add_subplot(1,1,1)\n",
    "ax.plot(d_grid,profit_i_trig_total, lw=2,color='blue',label='Profit for firm i (The deviator)')\n",
    "ax.plot(d_grid,profit_j_trig_total, lw=2, color='red',label='Profit for firm j')\n",
    "ax.legend(loc='lower left',frameon=True)\n",
    "ax.plot(d_grid,profit_i_trig_total, profit_j_trig_total)\n",
    "ax.axvline(x=optimum_deviationperiod_trig, color='red',linestyle = 'dashed')\n",
    "ax.scatter(optimum_deviationperiod_trig,optimum_profit_trig, color='black')\n",
    "ax.fill_between(d_grid,profit_i_trig_total, color='yellow', alpha=0.15)\n",
    "ax.set(xlim=(0, 50), ylim=(44000, 51000))"
   ]
  },
  {
   "cell_type": "code",
   "execution_count": null,
   "id": "748a472b-03d9-45de-b846-91ce739f2e66",
   "metadata": {},
   "outputs": [],
   "source": [
    "print(optimum_profit_trig, optimum_deviationperiod_trig)"
   ]
  },
  {
   "cell_type": "markdown",
   "id": "9a53c830-8ffd-472a-a490-e54fa0a53982",
   "metadata": {},
   "source": [
    "### Tit For Tat strategy\n",
    "\n",
    "The Tit For Tat strategy means that the one firm copies the other firms behaviour from the earlier period. This means in practice that they start at the Nash equilibrium and at some point one of the firms deviates from the strategy. This results in that the next period, they copy "
   ]
  },
  {
   "cell_type": "code",
   "execution_count": null,
   "id": "c348ccb5-ff37-4896-995a-a0c6599636e3",
   "metadata": {},
   "outputs": [],
   "source": [
    "t_grid = np.linspace(0, 49, 50)\n",
    "\n",
    "#Triggger\n",
    "profit_i_tft = []\n",
    "profit_j_tft = []\n",
    "\n",
    "for i in t_grid:\n",
    "    if i <= 20:\n",
    "        profit_i_tft.append(optimum_profit)\n",
    "        profit_j_tft.append(optimum_profit)\n",
    "    elif i == 21:\n",
    "        profit_i_tft.append(optimum_deviated_profit)\n",
    "        profit_j_tft.append(profit(optimum_quantity,optimum_deviated_quantity))\n",
    "    elif (i%2 == 0):\n",
    "        profit_i_tft.append(profit(optimum_quantity,optimum_deviated_quantity))\n",
    "        profit_j_tft.append(optimum_deviated_profit)\n",
    "    else:\n",
    "        profit_i_tft.append(optimum_deviated_profit)\n",
    "        profit_j_tft.append(profit(optimum_quantity,optimum_deviated_quantity))"
   ]
  },
  {
   "cell_type": "code",
   "execution_count": null,
   "id": "0637fb4f-db7f-45a5-8f87-8acc0acf2d38",
   "metadata": {},
   "outputs": [],
   "source": [
    "fig = plt.figure(figsize=(8, 5), dpi=80)\n",
    "ax = fig.add_subplot(1,1,1)\n",
    "ax.plot(t_grid,profit_i_tft, profit_j_tft)"
   ]
  },
  {
   "cell_type": "code",
   "execution_count": null,
   "id": "08289c47-d97e-4286-b09a-379f22d48a3b",
   "metadata": {},
   "outputs": [],
   "source": [
    "tft_i_cumulative = np.cumsum(profit_i_tft)\n",
    "tft_j_cumulative = np.cumsum(profit_j_tft)"
   ]
  },
  {
   "cell_type": "code",
   "execution_count": null,
   "id": "0467861e-e1fa-4550-a7da-d9e13f3529fc",
   "metadata": {},
   "outputs": [],
   "source": [
    "fig = plt.figure(figsize=(12, 8), dpi=80)\n",
    "ax = fig.add_subplot(1,1,1)\n",
    "ax.plot(t_grid,tft_i_cumulative, tft_j_cumulative)"
   ]
  },
  {
   "cell_type": "code",
   "execution_count": null,
   "id": "c73833e2-9ec7-4fdd-9eb6-3c25c5c0cd2b",
   "metadata": {},
   "outputs": [],
   "source": [
    "t_grid = np.linspace(0, 49, 50)\n",
    "d_grid = np.linspace(0, 49, 50)\n",
    "\n",
    "#Triggger\n",
    "profit_i_tft_total = []\n",
    "profit_j_tft_total = []\n",
    "\n",
    "for j in d_grid:\n",
    "    \n",
    "    profit_i_tft = []\n",
    "    profit_j_tft = []\n",
    "    \n",
    "    for i in t_grid:\n",
    "        if i <= (j-1):\n",
    "            profit_i_tft.append(optimum_profit)\n",
    "            profit_j_tft.append(optimum_profit)\n",
    "        elif i == j:\n",
    "            profit_i_tft.append(optimum_deviated_profit)\n",
    "            profit_j_tft.append(profit(optimum_quantity,optimum_deviated_quantity))\n",
    "        elif (i%2 == 0):\n",
    "            profit_i_tft.append(profit(optimum_quantity,optimum_deviated_quantity))\n",
    "            profit_j_tft.append(optimum_deviated_profit)\n",
    "        else:\n",
    "            profit_i_tft.append(optimum_deviated_profit)\n",
    "            profit_j_tft.append(profit(optimum_quantity,optimum_deviated_quantity))\n",
    "            \n",
    "    profit_i_tft_total.append(sum(profit_i_tft))\n",
    "    profit_j_tft_total.append(sum(profit_j_tft))"
   ]
  },
  {
   "cell_type": "code",
   "execution_count": null,
   "id": "970f5d3f-3afe-4d32-8dc4-c2d8834fff63",
   "metadata": {},
   "outputs": [],
   "source": [
    "optimum_profit_tft = max(profit_i_tft_total)\n",
    "optimum_deviationperiod_tft = d_grid[profit_i_tft_total.index(max(profit_i_tft_total))]\n",
    "\n",
    "fig = plt.figure(figsize=(12, 8), dpi=80)\n",
    "ax = fig.add_subplot(1,1,1)\n",
    "ax.plot(d_grid,profit_i_tft_total, lw=2,color='blue',label='Profit for firm i (The deviator)')\n",
    "ax.plot(d_grid,profit_j_tft_total, lw=2, color='red',label='Profit for firm j')\n",
    "ax.legend(loc='lower left',frameon=True)\n",
    "ax.plot(d_grid,profit_i_tft_total, profit_j_tft_total)\n",
    "ax.axvline(x=optimum_deviationperiod_tft, color='hotpink',linestyle = 'dashed')\n",
    "ax.scatter(optimum_deviationperiod_tft,optimum_profit_tft, color='black')\n",
    "ax.fill_between(d_grid,profit_i_tft_total, color='orange', alpha=0.15)\n",
    "ax.set(xlim=(0, 50), ylim=(44000, 51000))"
   ]
  },
  {
   "cell_type": "code",
   "execution_count": null,
   "id": "b10fc823-b7c4-4f6e-9393-8555a008b31c",
   "metadata": {},
   "outputs": [],
   "source": [
    "print(optimum_profit_tft, optimum_deviationperiod_tft)"
   ]
  },
  {
   "cell_type": "markdown",
   "id": "3422c1fa-272d-4456-9ecf-5ee95d006def",
   "metadata": {},
   "source": [
    "### Sumation"
   ]
  },
  {
   "cell_type": "code",
   "execution_count": null,
   "id": "9efe14f3-cc0b-478b-87c0-cfdaaa88b482",
   "metadata": {},
   "outputs": [],
   "source": [
    "data = [[\"Trigger\", optimum_profit_trig , optimum_deviationperiod_trig], \n",
    "        [\"Tit For Tat\", optimum_profit_tft, optimum_deviationperiod_tft]]\n",
    "col_names = [\"Strategy\", \"Profit\", \"Deviation period\"]\n",
    "print(tabulate(data, headers=col_names, tablefmt=\"fancy_grid\"))"
   ]
  },
  {
   "cell_type": "code",
   "execution_count": null,
   "id": "25d675c6-dcde-47e8-bf17-75e161801e83",
   "metadata": {},
   "outputs": [],
   "source": []
  }
 ],
 "metadata": {
  "kernelspec": {
   "display_name": "Python 3 (ipykernel)",
   "language": "python",
   "name": "python3"
  },
  "language_info": {
   "codemirror_mode": {
    "name": "ipython",
    "version": 3
   },
   "file_extension": ".py",
   "mimetype": "text/x-python",
   "name": "python",
   "nbconvert_exporter": "python",
   "pygments_lexer": "ipython3",
   "version": "3.9.7"
  }
 },
 "nbformat": 4,
 "nbformat_minor": 5
}

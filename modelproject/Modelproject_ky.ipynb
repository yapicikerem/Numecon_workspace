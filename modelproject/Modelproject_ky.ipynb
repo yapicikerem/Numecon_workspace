{
 "cells": [
  {
   "cell_type": "markdown",
   "metadata": {},
   "source": [
    "# Game Theory - Cournot competition"
   ]
  },
  {
   "cell_type": "markdown",
   "metadata": {},
   "source": [
    "In this project we will investigate in the Cournot competition model to see how firms compete on quantitiies. With an numerical approach, the main objective of the project is to find optimal values given the firms structure and the demand. The baseline model will include a simple demand function and a cost function for the firms which will later be used to look for the best responses. The extended model will look into how a collusion will occur when the two firms in a duopoly market end up with collaborating on quantities."
   ]
  },
  {
   "cell_type": "code",
   "execution_count": 1,
   "metadata": {},
   "outputs": [],
   "source": [
    "from scipy import optimize,arange #importing optimize and arange\n",
    "from numpy import array #importing array\n",
    "import matplotlib.pyplot as plt #importing plt for plotting in matplotlib\n",
    "import seaborn as sns\n",
    "from types import SimpleNamespace\n",
    "\n",
    "# autoreload modules when code is run\n",
    "%load_ext autoreload\n",
    "%autoreload 2\n",
    "\n",
    "%matplotlib inline"
   ]
  },
  {
   "cell_type": "markdown",
   "metadata": {},
   "source": [
    "## Demand and cost function\n",
    "We start by defining the demand function for firm 1 and firm 2 as follows:\n",
    "\n",
    "$$\\begin{equation} p_i(x_i, x_j) = 120-(x_i + x_j) \\end{equation}$$\n",
    "\n",
    ",where $x_i$ is the product produced by firm 1 and $x_j$ is the product produced by firm 2. The products are homogenous. \n",
    "\n",
    "The cost function is defined as:\n",
    "\n",
    "$$\\begin{equation} c(x) = cx \\end{equation}$$\n",
    "\n",
    ",where $x$ is the cost for firm 1 or firm 2 since they are symmetrical. We assume constant marginal costs."
   ]
  },
  {
   "cell_type": "code",
   "execution_count": 2,
   "metadata": {},
   "outputs": [],
   "source": [
    "def demand(x1,x2):\n",
    "    return 120-(x1+x2)\n",
    "\n",
    "def cost(x):\n",
    "    return 30-x"
   ]
  },
  {
   "cell_type": "markdown",
   "metadata": {},
   "source": [
    "## Profits function\n",
    "The profits for firm 1 and firm 2 are given as:\n",
    "$$\\begin{equation} \\pi(x_i, x_j)= p_i(x_i,x_j)x_i - c(x_i) \\end{equation}$$\n",
    ", if we insert the demand and cost function:\n",
    "$$\\begin{equation}  \\pi(x_i, x_j) = 1-x_i - x_j - cx  \\end{equation}$$"
   ]
  },
  {
   "cell_type": "code",
   "execution_count": 3,
   "metadata": {},
   "outputs": [],
   "source": [
    "def profit(x1,x2):\n",
    "    return demand(x1,x2)*x1-cost(x1)"
   ]
  },
  {
   "cell_type": "markdown",
   "metadata": {},
   "source": [
    "## Reaction functions"
   ]
  },
  {
   "cell_type": "markdown",
   "metadata": {},
   "source": [
    "If firm $i$ chooses the output $x_i$ its profits will be\n",
    "$$\\begin{equation} \\pi(x_i)= x_i(120-x_i-x_j) - 30x_i \\end{equation}$$\n"
   ]
  },
  {
   "cell_type": "code",
   "execution_count": 8,
   "metadata": {},
   "outputs": [],
   "source": [
    "def reaction(x2):\n",
    "    x1 = (90-x2)/2\n",
    "    return x1"
   ]
  },
  {
   "cell_type": "code",
   "execution_count": 9,
   "metadata": {},
   "outputs": [],
   "source": [
    "def vector_reaction(x):\n",
    "    return array(x)-array([reaction(x[1]),reaction(x[0])])"
   ]
  },
  {
   "cell_type": "code",
   "execution_count": null,
   "metadata": {},
   "outputs": [],
   "source": []
  }
 ],
 "metadata": {
  "interpreter": {
   "hash": "39e23235bf20ba13081802c0be9d977dd47feaef810e9da549b37233f712c9cc"
  },
  "kernelspec": {
   "display_name": "Python 3.9.7 ('base')",
   "language": "python",
   "name": "python3"
  },
  "language_info": {
   "codemirror_mode": {
    "name": "ipython",
    "version": 3
   },
   "file_extension": ".py",
   "mimetype": "text/x-python",
   "name": "python",
   "nbconvert_exporter": "python",
   "pygments_lexer": "ipython3",
   "version": "3.9.7"
  },
  "orig_nbformat": 4
 },
 "nbformat": 4,
 "nbformat_minor": 2
}

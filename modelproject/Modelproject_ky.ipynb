{
 "cells": [
  {
   "cell_type": "markdown",
   "metadata": {},
   "source": [
    "# Game Theory - Cournot competition"
   ]
  },
  {
   "cell_type": "markdown",
   "metadata": {},
   "source": [
    "In this project we will investigate in the Cournot competition model to see how firms compete on quantitiies. With an numerical approach, the main objective of the project is to find optimal values given the firms structure and the demand. The baseline model will include a simple demand function and a cost function for the firms which will later be used to look for the best responses. The extended model will look into how a collusion will occur when the two firms in a duopoly market end up with collaborating on quantities."
   ]
  },
  {
   "cell_type": "code",
   "execution_count": 1,
   "metadata": {},
   "outputs": [],
   "source": [
    "from scipy import optimize,arange #importing optimize and arange\n",
    "from numpy import array #importing array\n",
    "import numpy as np #importing numpy\n",
    "import matplotlib.pyplot as plt #importing plt for plotting in matplotlib\n",
    "import seaborn as sns\n",
    "from types import SimpleNamespace\n",
    "plt.style.use('seaborn-whitegrid')\n",
    "\n",
    "# autoreload modules when code is run\n",
    "%load_ext autoreload\n",
    "%autoreload 2\n",
    "\n",
    "%matplotlib inline"
   ]
  },
  {
   "cell_type": "markdown",
   "metadata": {},
   "source": [
    "## Demand and cost function\n",
    "We start by defining the demand function for firm $i$ is as follows :\n",
    "\n",
    "$$\\begin{equation} p_{i,j}(x_i, x_j) = 120-(x_i + x_j) \\end{equation}$$\n",
    "\n",
    ",where $x_i$ is the product produced by firm 1 and $x_j$ is the product produced by firm 2. The products are homogenous. \n",
    "\n",
    "The cost function is defined as:\n",
    "\n",
    "$$\\begin{equation} c(x) = cx \\end{equation}$$\n",
    "\n",
    ",where $x$ is the cost for firm 1 or firm 2 since they are symmetrical. We assume constant marginal costs."
   ]
  },
  {
   "cell_type": "code",
   "execution_count": 2,
   "metadata": {},
   "outputs": [],
   "source": [
    "def demand_good_x(xi,xj):\n",
    "    \"\"\"\n",
    "    This function decides the demand given the quantity produced by firms i and j. This means that this function decides\n",
    "    the price of the good. This works because the goods are homogenous and operate under the same market.\n",
    "    \n",
    "    xi: The good produced by firm i\n",
    "    xj: The good produced by firm j\n",
    "    120: This constant defines the quantity for which demand and thereby the price is equal to zero\n",
    "    \"\"\"\n",
    "    return 120-(xi+xj)\n",
    "\n",
    "\n",
    "def cost_good_x(x):\n",
    "    \"\"\"\n",
    "    This is the cost function that defines the production costs of good x given the amount produced. \n",
    "    The function is of such form that is only catches variable cost, and that there therefore is no fixed costs.\n",
    "    \n",
    "    x: the quantity of good x\n",
    "    \"\"\"\n",
    "    return 30*x"
   ]
  },
  {
   "cell_type": "markdown",
   "metadata": {},
   "source": [
    "## Profits function\n",
    "The profits for firm i will be (since the firms are symmetrical we can assume the same profit function for firm j):\n",
    "$$\\begin{equation} \\pi_i(x_i, x_j)= p_i(x_i,x_j)x_i - c(x) \\end{equation}$$\n",
    ", if we insert the demand and cost function:\n",
    "$$\\begin{equation}  \\pi_i(x_i, x_j) = 120-(x_i+x_j) - cx  \\end{equation}$$\n",
    "The total profits in the economy with the two firms will be:\n",
    "$$\\begin{equation}  \\Pi_{total}(x_i, x_j) = \\pi_i(x_i, x_j) + \\pi_j(x_i, x_j)  \\end{equation}$$"
   ]
  },
  {
   "cell_type": "code",
   "execution_count": 3,
   "metadata": {},
   "outputs": [],
   "source": [
    "def profit(xi,xj):\n",
    "    \"\"\"\n",
    "    This profit function is of the original form and is used to find the optimal production.\n",
    "    \n",
    "    xi: The good produced by firm i\n",
    "    xj: The good produced by firm j\n",
    "    \"\"\"\n",
    "    return demand_good_x(xi,xj)*xi-cost_good_x(xi)"
   ]
  },
  {
   "cell_type": "markdown",
   "metadata": {},
   "source": [
    "## Reaction functions"
   ]
  },
  {
   "cell_type": "markdown",
   "metadata": {},
   "source": [
    "If we take the derivative of the profits function (firm $i$) with respect to $x_i$ (holding $x_j$ constant) and setting the derivative equal to zero we obtain:\n",
    "\n",
    "$$\\begin{equation} b_i(x_j) = (90-x_j)/2 \\end{equation}$$\n",
    "\n",
    ", thus the best response for firm $i$ is given by the above equation.\n",
    "\n",
    "Similarily, the best response for firm $j$ will be \n",
    "\n",
    "\n",
    "$$\\begin{equation} b_j(x_i) = (90-x_i)/2 \\end{equation}$$\n",
    "\n"
   ]
  },
  {
   "cell_type": "code",
   "execution_count": 4,
   "metadata": {},
   "outputs": [],
   "source": [
    "def best_response(xj):\n",
    "    \"\"\"\n",
    "    This function is derived from the profit function by taking the derevation with regards to xi and isolating xi.\n",
    "    \n",
    "    xi: The good produced by firm i\n",
    "    xj: The good produced by firm j\n",
    "    \"\"\"\n",
    "    xi = (90-xj)/2\n",
    "    return xi"
   ]
  },
  {
   "cell_type": "code",
   "execution_count": 5,
   "metadata": {},
   "outputs": [],
   "source": [
    "def vector_best_response(x):\n",
    "    \"\"\"\n",
    "    Now we take the best response functions and generating a vector containing them this is then used to solve the system\n",
    "    of functions that are driven from earlier functions. Because we are looking for the vector best responce, we minus the\n",
    "    response functions from an x.\n",
    "    \n",
    "    x: creating the difference equation that is optimized.\n",
    "    \"\"\"\n",
    "    return array(x)-array([best_response(x[1]),best_response(x[0])])"
   ]
  },
  {
   "cell_type": "markdown",
   "metadata": {},
   "source": [
    "We will give x_0 a initial guess, and look for an optimal production for firm $i$ given the demand in the economy and the cost function the firm have"
   ]
  },
  {
   "cell_type": "code",
   "execution_count": 6,
   "metadata": {},
   "outputs": [
    {
     "name": "stdout",
     "output_type": "stream",
     "text": [
      "[30. 30.]\n"
     ]
    }
   ],
   "source": [
    "x0 = [40, 40] #Initial guess\n",
    "results = optimize.fsolve(vector_best_response, x0) #Optimize\n",
    "print(results)"
   ]
  },
  {
   "cell_type": "markdown",
   "metadata": {},
   "source": [
    "The optimal production is 30 for firm $i$ and this will give the following profit:"
   ]
  },
  {
   "cell_type": "code",
   "execution_count": 7,
   "metadata": {},
   "outputs": [
    {
     "name": "stdout",
     "output_type": "stream",
     "text": [
      "The profit for firm i is = 900.0\n"
     ]
    }
   ],
   "source": [
    "print('The profit for firm i is =', profit(results[0],results[1]))"
   ]
  },
  {
   "cell_type": "markdown",
   "metadata": {},
   "source": [
    "## Extension 1 - Collusion"
   ]
  },
  {
   "cell_type": "markdown",
   "metadata": {},
   "source": [
    "In this part of the project, we are interested in how the firms in the economy will react if a collusion occurs between them. Overall, the theory underlines that when collusions occur between firms in duopoly economies, the profits will tend to be higher (for both firms) than under competition which makes intuitvely good sense. We will try to verify this with the following code."
   ]
  },
  {
   "cell_type": "code",
   "execution_count": 8,
   "metadata": {},
   "outputs": [],
   "source": [
    "x_grid = np.linspace(10, 45, 100) #looking for quantities for firms\n",
    "xvalue = [] #empty list that will be filled out with the x_value that the x-grid decides for quantities\n",
    "profits = [] #Empty list that will be filled out with the profit for a certain x_value (quantity)\n",
    "\n",
    "for x in x_grid:\n",
    "    profit(x,x)\n",
    "    xvalue.append(x)\n",
    "    profits.append(profit(x,x))"
   ]
  },
  {
   "cell_type": "code",
   "execution_count": 9,
   "metadata": {},
   "outputs": [
    {
     "name": "stdout",
     "output_type": "stream",
     "text": [
      "The optimal proft occurs when the two companies collude and produce 22.37 units and gaining 1012.47 as profits\n"
     ]
    }
   ],
   "source": [
    "optimum_profit = max(profits)\n",
    "optimum_quantity = xvalue[profits.index(max(profits))]\n",
    "\n",
    "print('The optimal profit occurs when the two companies collude and produce', \"%.2f\" % optimum_quantity, 'units and gaining', \"%.2f\" % optimum_profit, 'as profits')"
   ]
  },
  {
   "cell_type": "markdown",
   "metadata": {},
   "source": [
    "## Plotting the results under collusion"
   ]
  },
  {
   "cell_type": "code",
   "execution_count": 10,
   "metadata": {},
   "outputs": [
    {
     "data": {
      "text/plain": [
       "<matplotlib.collections.PolyCollection at 0x24f8dd097f0>"
      ]
     },
     "execution_count": 10,
     "metadata": {},
     "output_type": "execute_result"
    },
    {
     "data": {
      "image/png": "[encoded data removed]",
      "text/plain": [
       "<Figure size 640x400 with 1 Axes>"
      ]
     },
     "metadata": {
      "needs_background": "light"
     },
     "output_type": "display_data"
    }
   ],
   "source": [
    "fig = plt.figure(figsize=(8, 5), dpi=80)\n",
    "ax = fig.add_subplot(1,1,1)\n",
    "ax.plot(xvalue,profits)\n",
    "ax.set_xlabel('x-value', fontsize=12)\n",
    "ax.set_ylabel('Profit', fontsize=12)\n",
    "ax.set_title('Profit under collusion', color='black', fontsize=18)\n",
    "ax.axvline(x=optimum_quantity, color='green',linestyle = 'dashed')\n",
    "ax.scatter(optimum_quantity,optimum_profit, color='black')\n",
    "ax.fill_between(xvalue,profits, alpha=0.15)\n"
   ]
  },
  {
   "cell_type": "markdown",
   "metadata": {},
   "source": [
    "## Extension 2 - Deviation from collusion"
   ]
  },
  {
   "cell_type": "markdown",
   "metadata": {},
   "source": [
    "In this extension we are interested in the dynamics when firm i or j deviates from the collusion strategy. This can be interesting to look if for the firm i there is anything to gain deviating from this strategy."
   ]
  },
  {
   "cell_type": "code",
   "execution_count": 16,
   "metadata": {},
   "outputs": [],
   "source": [
    "x_grid_deviate = np.linspace(10, 60, 100) #Make a new grid for the x values when deviation occurs\n",
    "xvalue_deviate = [] ##empty list that will be filled out with the x_value  that the x-grid decides for quantities under deviation\n",
    "profits_deviate = [] #Empty list that will be filled out with the profit for a certain x_value (quantity) under deviation\n",
    "\n",
    "for x in x_grid_deviate:\n",
    "    xvalue_deviate.append(x)\n",
    "    profits_deviate.append(profit(x,optimum_quantity))"
   ]
  },
  {
   "cell_type": "code",
   "execution_count": 27,
   "metadata": {},
   "outputs": [
    {
     "name": "stdout",
     "output_type": "stream",
     "text": [
      "The optimal profit when firm i chooses to deviate from collution is 1143.32 and the quantity will be optimal at 33.74 \n"
     ]
    }
   ],
   "source": [
    "optimum_profit_deviate = max(profits_deviate)\n",
    "optimum_quantity_deviate = xvalue_deviate[profits_deviate.index(max(profits_deviate))]\n",
    "\n",
    "print('The optimal profit when firm i chooses to deviate from collution is', \"%.2f\" % optimum_profit_deviate, 'and the quantity will be optimal at', \"%.2f\" % optimum_quantity_deviate, '')"
   ]
  },
  {
   "cell_type": "code",
   "execution_count": 19,
   "metadata": {},
   "outputs": [
    {
     "data": {
      "text/plain": [
       "<matplotlib.collections.PolyCollection at 0x24f8df85bb0>"
      ]
     },
     "execution_count": 19,
     "metadata": {},
     "output_type": "execute_result"
    },
    {
     "data": {
      "image/png": "[encoded data removed]",
      "text/plain": [
       "<Figure size 640x400 with 1 Axes>"
      ]
     },
     "metadata": {
      "needs_background": "light"
     },
     "output_type": "display_data"
    }
   ],
   "source": [
    "fig = plt.figure(figsize=(8, 5), dpi=80)\n",
    "ax = fig.add_subplot(1,1,1)\n",
    "ax.plot(xvalue_deviate,profits_deviate)\n",
    "ax.set_xlabel('x-value', fontsize=12)\n",
    "ax.set_ylabel('Profit', fontsize=12)\n",
    "ax.set_title('Profit under deviation from collusion', fontsize=18, color='black')\n",
    "ax.axvline(x=optimum_quantity_deviate, color='red',linestyle = 'dashed')\n",
    "ax.scatter(optimum_quantity_deviate,optimum_profit_deviate, color='black')\n",
    "ax.fill_between(xvalue_deviate,profits_deviate, color='pink', alpha=0.15)"
   ]
  },
  {
   "cell_type": "code",
   "execution_count": 37,
   "metadata": {},
   "outputs": [
    {
     "name": "stdout",
     "output_type": "stream",
     "text": [
      "2024.9362309968374 1901.543209876543\n"
     ]
    }
   ],
   "source": [
    "profit_collude = optimum_profit+optimum_profit\n",
    "profit_deviate = optimum_profit_deviate + profit(optimum_quantity, optimum_quantity_deviate) #since firm i chooses to deviate this must mean that firm j can only get\n",
    "\n",
    "print(profit_collude, profit_deviate)"
   ]
  },
  {
   "cell_type": "markdown",
   "metadata": {},
   "source": [
    "## Simulation - Trigger and Tit for tat strategy"
   ]
  },
  {
   "cell_type": "code",
   "execution_count": null,
   "metadata": {},
   "outputs": [],
   "source": []
  },
  {
   "cell_type": "markdown",
   "metadata": {},
   "source": []
  }
 ],
 "metadata": {
  "interpreter": {
   "hash": "39e23235bf20ba13081802c0be9d977dd47feaef810e9da549b37233f712c9cc"
  },
  "kernelspec": {
   "display_name": "Python 3.9.7 ('base')",
   "language": "python",
   "name": "python3"
  },
  "language_info": {
   "codemirror_mode": {
    "name": "ipython",
    "version": 3
   },
   "file_extension": ".py",
   "mimetype": "text/x-python",
   "name": "python",
   "nbconvert_exporter": "python",
   "pygments_lexer": "ipython3",
   "version": "3.9.7"
  },
  "orig_nbformat": 4
 },
 "nbformat": 4,
 "nbformat_minor": 2
}

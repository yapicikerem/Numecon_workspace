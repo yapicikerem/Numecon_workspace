{
 "cells": [
  {
   "cell_type": "markdown",
   "metadata": {},
   "source": [
    "# IS-LM model"
   ]
  },
  {
   "cell_type": "code",
   "execution_count": 1,
   "metadata": {},
   "outputs": [],
   "source": [
    "\"1|IMPORT PACKAGES\"\n",
    "import numpy as np               # Package for scientific computing with Python\n",
    "import matplotlib.pyplot as plt  # Matplotlib is a 2D plotting library\n",
    "from scipy import linalg\n",
    "from scipy import optimize\n",
    "import sympy as sm\n",
    "from types import SimpleNamespace\n",
    "\n",
    "# autoreload modules when code is run\n",
    "%load_ext autoreload\n",
    "%autoreload 2"
   ]
  },
  {
   "cell_type": "markdown",
   "metadata": {},
   "source": [
    "## Analytical solution\n",
    "First we define all symbols used in both the simple and the extended IS-LM model"
   ]
  },
  {
   "cell_type": "code",
   "execution_count": 4,
   "metadata": {},
   "outputs": [],
   "source": [
    "#production function\n",
    "Y = sm.symbols('Y')\n",
    "C = sm.symbols('C')\n",
    "I = sm.symbols('I')\n",
    "G = sm.symbols('G')\n",
    "X = sm.symbols('X')\n",
    "Z = sm.symbols('Z')\n",
    "\n",
    "#new variables \n",
    "Yn = sm.symbols('Y^{new}')\n",
    "\n",
    "#consumption function\n",
    "a = sm.symbols('a')\n",
    "b = sm.symbols('b')\n",
    "T = sm.symbols('T')\n",
    "\n",
    "#Investment and the interest rate\n",
    "I = sm.symbols('I')\n",
    "I_bar = sm.symbols('I_bar')\n",
    "d = sm.symbols('d')\n",
    "i = sm.symbols('i')\n",
    "\n",
    "#imports\n",
    "alpha = sm.symbols('alpha')\n",
    "beta = sm.symbols('beta')\n",
    "\n",
    "G_bar = sm.symbols('G_bar')\n",
    "X_bar = sm.symbols('X_bar')\n",
    "\n",
    "#\n",
    "c_1 = sm.symbols('c_1')\n",
    "Ms = sm.symbols('Ms')\n",
    "P = sm.symbols('P')\n",
    "c_3 = sm.symbols('c_3')\n",
    "c_2 = sm.symbols('c_2') \n"
   ]
  },
  {
   "cell_type": "markdown",
   "metadata": {},
   "source": [
    "We turn i_IS equation into a Python solution with the usage of lambdify"
   ]
  },
  {
   "cell_type": "code",
   "execution_count": 3,
   "metadata": {},
   "outputs": [],
   "source": [
    "#Defining i_IS\n",
    "\"3|DEFINE AND POPULATE THE IS-SCHEDULE\"\n",
    "def i_IS(a, alpha, b, beta, T, I_bar, G_bar, X_bar, d, Y):\n",
    "    i_IS = ((a-alpha)-(b-beta)*T + I_bar + G_bar + X_bar - (1-b+beta)*Y)/d\n",
    "    return i_IS\n",
    "\n",
    "def Y_IS(a, alpha, b, beta, T, I_bar, G_bar, X_bar, d, i):\n",
    "    Y_IS = ((a-alpha)-(b-beta)*T + I_bar + G_bar + X_bar - d*i)/(1-b+beta)\n",
    "    return Y_IS\n",
    "\n",
    "i = i_IS(a, alpha, b, beta, T, I_bar, G_bar, X_bar, d, Y)\n",
    "\n",
    "y = Y_IS(a, alpha, b, beta, T, I_bar, G_bar, X_bar, d, i)"
   ]
  },
  {
   "cell_type": "code",
   "execution_count": 4,
   "metadata": {},
   "outputs": [],
   "source": [
    "i_IS_func = sm.lambdify(args = (a, alpha, b, beta, T, I_bar, G_bar, X_bar, d, Y),\n",
    "                     expr = i)\n"
   ]
  },
  {
   "cell_type": "code",
   "execution_count": 6,
   "metadata": {},
   "outputs": [
    {
     "name": "stdout",
     "output_type": "stream",
     "text": [
      " The analytical solution for i_IS is: -13.000\n"
     ]
    }
   ],
   "source": [
    "\"2|DEFINE PARAMETERS AND ARRAYS\"\n",
    "# Parameters\n",
    "Y_value = 100\n",
    "a_value = 20                 # Autonomous consumption\n",
    "b_value = 0.2                # Marginal propensity to consume\n",
    "alpha_value = 5              # Autonomous imports\n",
    "beta_value  = 0.2            # Marginal propensity to import\n",
    "T_value = 1                  # Taxes\n",
    "I_bar_value = 10             # Investment intercept (when i = 0)\n",
    "G_bar_value = 8              # Government spending\n",
    "X_bar_value = 2              # Exports (given)\n",
    "d_value = 5                  # Investment slope wrt to i\n",
    "# Arrays\n",
    "Y = np.arange(Y_value)  # Array values of Y\n",
    "\n",
    "i_IS_ana = i_IS_func(a_value, alpha_value, b_value, beta_value, T_value, I_bar_value, G_bar_value, X_bar_value, d_value, Y_value)\n",
    "\n",
    "print(f' The analytical solution for i_IS is: {i_IS_ana:.3f}')"
   ]
  },
  {
   "cell_type": "markdown",
   "metadata": {},
   "source": [
    "When symbols are defined, we define the equations contained in the model"
   ]
  },
  {
   "cell_type": "code",
   "execution_count": 5,
   "metadata": {},
   "outputs": [
    {
     "name": "stdout",
     "output_type": "stream",
     "text": [
      "G + I_bar + X + a - alpha + b*(-T + Y) - beta*(-T + Y) - d*i\n"
     ]
    }
   ],
   "source": [
    "#Defining the equations as variables\n",
    "Y_func = C + I + G + (X-Z)\n",
    "C_func = a + b*(Y-T)\n",
    "I_func = I_bar - d*i\n",
    "Z_func = alpha + beta*(Y-T)\n",
    "\n",
    "#To derive the IS schedule we insert the consumption, investment, and import functions to solve for $i$ from the equilibrium condition:\n",
    "Y_new = Y_func.subs(C, C_func).subs(I, I_func).subs(Z, Z_func )\n",
    "\n",
    "print(Y_new)"
   ]
  },
  {
   "cell_type": "code",
   "execution_count": 16,
   "metadata": {},
   "outputs": [],
   "source": [
    "def i_LM(c_1, c_2, c_3, Ms, P, Y):\n",
    "    i_LM = (c_1 - Ms/P)/c_3 + c_2/c_3*Y\n",
    "    return i_LM\n",
    "\n",
    "i_2 = i_LM(c_1, c_2, c_3, Ms, P, Y)"
   ]
  },
  {
   "cell_type": "code",
   "execution_count": 15,
   "metadata": {},
   "outputs": [
    {
     "ename": "SyntaxError",
     "evalue": "cannot assign to literal (<lambdifygenerated-5>, line 2)",
     "output_type": "error",
     "traceback": [
      "Traceback \u001b[1;36m(most recent call last)\u001b[0m:\n",
      "  File \u001b[0;32m\"c:\\Users\\Kerem\\anaconda3\\lib\\site-packages\\IPython\\core\\interactiveshell.py\"\u001b[0m, line \u001b[0;32m3444\u001b[0m, in \u001b[0;35mrun_code\u001b[0m\n    exec(code_obj, self.user_global_ns, self.user_ns)\n",
      "  File \u001b[0;32m\"C:\\Users\\Kerem\\AppData\\Local\\Temp/ipykernel_22900/2072741448.py\"\u001b[0m, line \u001b[0;32m1\u001b[0m, in \u001b[0;35m<module>\u001b[0m\n    i_LM_func = sm.lambdify(args = (c_1, c_2, c_3, Ms, P, Y),\n",
      "\u001b[1;36m  File \u001b[1;32m\"c:\\Users\\Kerem\\anaconda3\\lib\\site-packages\\sympy\\utilities\\lambdify.py\"\u001b[1;36m, line \u001b[1;32m892\u001b[1;36m, in \u001b[1;35mlambdify\u001b[1;36m\u001b[0m\n\u001b[1;33m    c = compile(funcstr, filename, 'exec')\u001b[0m\n",
      "\u001b[1;36m  File \u001b[1;32m\"<lambdifygenerated-5>\"\u001b[1;36m, line \u001b[1;32m2\u001b[0m\n\u001b[1;33m    [0, 1, 2, 3, 4, 5, 6, 7, 8, 9, 10, 11, 12, 13, 14, 15, 16, 17, 18, 19, 20, 21, 22, 23, 24, 25, 26, 27, 28, 29, 30, 31, 32, 33, 34, 35, 36, 37, 38, 39, 40, 41, 42, 43, 44, 45, 46, 47, 48, 49, 50, 51, 52, 53, 54, 55, 56, 57, 58, 59, 60, 61, 62, 63, 64, 65, 66, 67, 68, 69, 70, 71, 72, 73, 74, 75, 76, 77, 78, 79, 80, 81, 82, 83, 84, 85, 86, 87, 88, 89, 90, 91, 92, 93, 94, 95, 96, 97, 98, 99] = _Dummy_25\u001b[0m\n\u001b[1;37m     ^\u001b[0m\n\u001b[1;31mSyntaxError\u001b[0m\u001b[1;31m:\u001b[0m cannot assign to literal\n"
     ]
    }
   ],
   "source": [
    "i_LM_func = sm.lambdify(args = (c_1, c_2, c_3, Ms, P, Y),\n",
    "                     expr = i_2)"
   ]
  },
  {
   "cell_type": "code",
   "execution_count": 17,
   "metadata": {},
   "outputs": [
    {
     "name": "stdout",
     "output_type": "stream",
     "text": [
      " The analytical solution for i_LM is: 100.000\n"
     ]
    }
   ],
   "source": [
    "\"2|DEFINE PARAMETERS AND ARRAYS\"\n",
    "# Parameters\n",
    "Y_value = 100\n",
    "c_1_value = 1000              # Precautionary money demand\n",
    "c_2_value = 10                # Transaction money demand\n",
    "c_3_value = 10                # Speculation money demand\n",
    "Ms_value = 20000             # Nominal money supply\n",
    "P_value  = 20                # Price level\n",
    "# Arrays\n",
    "Y = np.arange(Y_value)  # Array values of Y\n",
    "\n",
    "i_LM_ana = i_LM_func(c_1_value, c_2_value, c_3_value, Ms_value, P_value, Y_value)\n",
    "\n",
    "print(f' The analytical solution for i_LM is: {i_LM_ana:.3f}')"
   ]
  },
  {
   "cell_type": "markdown",
   "metadata": {},
   "source": [
    "# Numerical solution\n",
    "The numerical solution is solved using an objective function (minimization problem function"
   ]
  },
  {
   "cell_type": "code",
   "execution_count": 19,
   "metadata": {},
   "outputs": [
    {
     "ename": "ValueError",
     "evalue": "f(a) and f(b) must have different signs",
     "output_type": "error",
     "traceback": [
      "\u001b[1;31m---------------------------------------------------------------------------\u001b[0m",
      "\u001b[1;31mValueError\u001b[0m                                Traceback (most recent call last)",
      "\u001b[1;32m~\\AppData\\Local\\Temp/ipykernel_22900/1738304334.py\u001b[0m in \u001b[0;36m<module>\u001b[1;34m\u001b[0m\n\u001b[0;32m      4\u001b[0m \u001b[1;33m\u001b[0m\u001b[0m\n\u001b[0;32m      5\u001b[0m \u001b[1;31m# We run and print the numerical solution function using a root optimizer.\u001b[0m\u001b[1;33m\u001b[0m\u001b[1;33m\u001b[0m\u001b[0m\n\u001b[1;32m----> 6\u001b[1;33m ss_num = optimize.root_scalar(obj_i_IS, \n\u001b[0m\u001b[0;32m      7\u001b[0m                               \u001b[0mbracket\u001b[0m \u001b[1;33m=\u001b[0m \u001b[1;33m[\u001b[0m\u001b[1;36m0.01\u001b[0m\u001b[1;33m,\u001b[0m\u001b[1;36m100\u001b[0m\u001b[1;33m]\u001b[0m\u001b[1;33m,\u001b[0m\u001b[1;33m\u001b[0m\u001b[1;33m\u001b[0m\u001b[0m\n\u001b[0;32m      8\u001b[0m                               method = 'brentq')\n",
      "\u001b[1;32mc:\\Users\\Kerem\\anaconda3\\lib\\site-packages\\scipy\\optimize\\_root_scalar.py\u001b[0m in \u001b[0;36mroot_scalar\u001b[1;34m(f, args, method, bracket, fprime, fprime2, x0, x1, xtol, rtol, maxiter, options)\u001b[0m\n\u001b[0;32m    247\u001b[0m \u001b[1;33m\u001b[0m\u001b[0m\n\u001b[0;32m    248\u001b[0m         \u001b[0ma\u001b[0m\u001b[1;33m,\u001b[0m \u001b[0mb\u001b[0m \u001b[1;33m=\u001b[0m \u001b[0mbracket\u001b[0m\u001b[1;33m[\u001b[0m\u001b[1;33m:\u001b[0m\u001b[1;36m2\u001b[0m\u001b[1;33m]\u001b[0m\u001b[1;33m\u001b[0m\u001b[1;33m\u001b[0m\u001b[0m\n\u001b[1;32m--> 249\u001b[1;33m         \u001b[0mr\u001b[0m\u001b[1;33m,\u001b[0m \u001b[0msol\u001b[0m \u001b[1;33m=\u001b[0m \u001b[0mmethodc\u001b[0m\u001b[1;33m(\u001b[0m\u001b[0mf\u001b[0m\u001b[1;33m,\u001b[0m \u001b[0ma\u001b[0m\u001b[1;33m,\u001b[0m \u001b[0mb\u001b[0m\u001b[1;33m,\u001b[0m \u001b[0margs\u001b[0m\u001b[1;33m=\u001b[0m\u001b[0margs\u001b[0m\u001b[1;33m,\u001b[0m \u001b[1;33m**\u001b[0m\u001b[0mkwargs\u001b[0m\u001b[1;33m)\u001b[0m\u001b[1;33m\u001b[0m\u001b[1;33m\u001b[0m\u001b[0m\n\u001b[0m\u001b[0;32m    250\u001b[0m     \u001b[1;32melif\u001b[0m \u001b[0mmeth\u001b[0m \u001b[1;32min\u001b[0m \u001b[1;33m[\u001b[0m\u001b[1;34m'secant'\u001b[0m\u001b[1;33m]\u001b[0m\u001b[1;33m:\u001b[0m\u001b[1;33m\u001b[0m\u001b[1;33m\u001b[0m\u001b[0m\n\u001b[0;32m    251\u001b[0m         \u001b[1;32mif\u001b[0m \u001b[0mx0\u001b[0m \u001b[1;32mis\u001b[0m \u001b[1;32mNone\u001b[0m\u001b[1;33m:\u001b[0m\u001b[1;33m\u001b[0m\u001b[1;33m\u001b[0m\u001b[0m\n",
      "\u001b[1;32mc:\\Users\\Kerem\\anaconda3\\lib\\site-packages\\scipy\\optimize\\zeros.py\u001b[0m in \u001b[0;36mbrentq\u001b[1;34m(f, a, b, args, xtol, rtol, maxiter, full_output, disp)\u001b[0m\n\u001b[0;32m    774\u001b[0m     \u001b[1;32mif\u001b[0m \u001b[0mrtol\u001b[0m \u001b[1;33m<\u001b[0m \u001b[0m_rtol\u001b[0m\u001b[1;33m:\u001b[0m\u001b[1;33m\u001b[0m\u001b[1;33m\u001b[0m\u001b[0m\n\u001b[0;32m    775\u001b[0m         \u001b[1;32mraise\u001b[0m \u001b[0mValueError\u001b[0m\u001b[1;33m(\u001b[0m\u001b[1;34m\"rtol too small (%g < %g)\"\u001b[0m \u001b[1;33m%\u001b[0m \u001b[1;33m(\u001b[0m\u001b[0mrtol\u001b[0m\u001b[1;33m,\u001b[0m \u001b[0m_rtol\u001b[0m\u001b[1;33m)\u001b[0m\u001b[1;33m)\u001b[0m\u001b[1;33m\u001b[0m\u001b[1;33m\u001b[0m\u001b[0m\n\u001b[1;32m--> 776\u001b[1;33m     \u001b[0mr\u001b[0m \u001b[1;33m=\u001b[0m \u001b[0m_zeros\u001b[0m\u001b[1;33m.\u001b[0m\u001b[0m_brentq\u001b[0m\u001b[1;33m(\u001b[0m\u001b[0mf\u001b[0m\u001b[1;33m,\u001b[0m \u001b[0ma\u001b[0m\u001b[1;33m,\u001b[0m \u001b[0mb\u001b[0m\u001b[1;33m,\u001b[0m \u001b[0mxtol\u001b[0m\u001b[1;33m,\u001b[0m \u001b[0mrtol\u001b[0m\u001b[1;33m,\u001b[0m \u001b[0mmaxiter\u001b[0m\u001b[1;33m,\u001b[0m \u001b[0margs\u001b[0m\u001b[1;33m,\u001b[0m \u001b[0mfull_output\u001b[0m\u001b[1;33m,\u001b[0m \u001b[0mdisp\u001b[0m\u001b[1;33m)\u001b[0m\u001b[1;33m\u001b[0m\u001b[1;33m\u001b[0m\u001b[0m\n\u001b[0m\u001b[0;32m    777\u001b[0m     \u001b[1;32mreturn\u001b[0m \u001b[0mresults_c\u001b[0m\u001b[1;33m(\u001b[0m\u001b[0mfull_output\u001b[0m\u001b[1;33m,\u001b[0m \u001b[0mr\u001b[0m\u001b[1;33m)\u001b[0m\u001b[1;33m\u001b[0m\u001b[1;33m\u001b[0m\u001b[0m\n\u001b[0;32m    778\u001b[0m \u001b[1;33m\u001b[0m\u001b[0m\n",
      "\u001b[1;31mValueError\u001b[0m: f(a) and f(b) must have different signs"
     ]
    }
   ],
   "source": [
    "#We define the objective function\n",
    "\n",
    "obj_i_IS = lambda i: i-i_2\n",
    "\n",
    "# We run and print the numerical solution function using a root optimizer.  \n",
    "ss_num = optimize.root_scalar(obj_i_IS, \n",
    "                              bracket = [0.01,100], \n",
    "                              method = 'brentq')\n",
    "\n",
    "print(f'The numerical solution for capital per worker is: {ss_num.root:.3f} which is the same value as found in the analytical solution ({kss_an:.3f})') "
   ]
  },
  {
   "cell_type": "markdown",
   "metadata": {},
   "source": []
  }
 ],
 "metadata": {
  "interpreter": {
   "hash": "39e23235bf20ba13081802c0be9d977dd47feaef810e9da549b37233f712c9cc"
  },
  "kernelspec": {
   "display_name": "Python 3.9.7 ('base')",
   "language": "python",
   "name": "python3"
  },
  "language_info": {
   "codemirror_mode": {
    "name": "ipython",
    "version": 3
   },
   "file_extension": ".py",
   "mimetype": "text/x-python",
   "name": "python",
   "nbconvert_exporter": "python",
   "pygments_lexer": "ipython3",
   "version": "3.9.7"
  },
  "orig_nbformat": 4
 },
 "nbformat": 4,
 "nbformat_minor": 2
}

{
 "cells": [
  {
   "cell_type": "markdown",
   "id": "27b9e049-1bd4-4db6-8757-0814f9fdfef4",
   "metadata": {},
   "source": [
    "# Inauguralproject - Kerem Yapici & Niels Lund-Andersen"
   ]
  },
  {
   "cell_type": "code",
   "execution_count": 5,
   "id": "2ff6a93e-7630-4cf7-9fb8-3553a0cdd4e1",
   "metadata": {},
   "outputs": [],
   "source": [
    "from types import SimpleNamespace\n",
    "import numpy as np\n",
    "from scipy import optimize\n",
    "import matplotlib.pyplot as plt\n",
    "from scipy.stats import beta\n",
    "from inaugural import *"
   ]
  },
  {
   "cell_type": "code",
   "execution_count": null,
   "id": "2ea9d89b-e594-4cc0-be8f-a9c6d7cc1482",
   "metadata": {},
   "outputs": [],
   "source": []
  }
 ],
 "metadata": {
  "kernelspec": {
   "display_name": "Python 3 (ipykernel)",
   "language": "python",
   "name": "python3"
  },
  "language_info": {
   "codemirror_mode": {
    "name": "ipython",
    "version": 3
   },
   "file_extension": ".py",
   "mimetype": "text/x-python",
   "name": "python",
   "nbconvert_exporter": "python",
   "pygments_lexer": "ipython3",
   "version": "3.9.7"
  }
 },
 "nbformat": 4,
 "nbformat_minor": 5
}

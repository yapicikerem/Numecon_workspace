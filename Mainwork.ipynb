{
 "cells": [
  {
   "cell_type": "markdown",
   "id": "27b9e049-1bd4-4db6-8757-0814f9fdfef4",
   "metadata": {
    "tags": []
   },
   "source": [
    "# Inauguralproject - Kerem Yapici & Niels Lund-Andersen"
   ]
  },
  {
   "cell_type": "code",
   "execution_count": 1,
   "id": "2ff6a93e-7630-4cf7-9fb8-3553a0cdd4e1",
   "metadata": {},
   "outputs": [],
   "source": [
    "from types import SimpleNamespace\n",
    "import numpy as np\n",
    "from scipy import optimize\n",
    "import matplotlib.pyplot as plt\n",
    "from scipy.stats import beta\n",
    "from inaugural import *\n",
    "par = SimpleNamespace(y = 1, p = 0.2, theta = -2, g = 0.95, x = 0.6, a = 2, b = 7, N = 100000)"
   ]
  },
  {
   "cell_type": "markdown",
   "id": "06442c1c-1e88-491c-abbc-c0a0c35b7127",
   "metadata": {},
   "source": [
    "## Question 1"
   ]
  },
  {
   "cell_type": "markdown",
   "id": "f5f8046b-b681-4e1f-a90c-60e487accc7a",
   "metadata": {},
   "source": [
    "### i)"
   ]
  },
  {
   "cell_type": "markdown",
   "id": "ab24dcf8-f660-42f9-9933-09521f864f57",
   "metadata": {},
   "source": [
    "In order to solve the first subquestion of Question 1, we've defined numerous functions in the .py-file that gives us the utility, premium, and the expected value of the valueequation. These functions are the means to solving the optimal coverage amounts. The following function uses .minimize_scalar capabilities to solve the negated minimum of the expected value."
   ]
  },
  {
   "cell_type": "code",
   "execution_count": 10,
   "id": "a1afec92-8a6a-462d-906e-6d60fd05e1ba",
   "metadata": {},
   "outputs": [],
   "source": [
    "par = SimpleNamespace(y = 1, p = 0.2, theta = -2, g = 0.95, x = 0.6, a = 2, b = 7, N = 100000)\n",
    "def optimal_q(x,par):\n",
    "    from scipy import optimize\n",
    "    obj = lambda q: -exp_value(x,q,par)\n",
    "    solution = optimize.minimize_scalar(obj,bounds=(0,0.9),method='bounded')\n",
    "    q = solution.x\n",
    "    return q"
   ]
  },
  {
   "cell_type": "markdown",
   "id": "fa5a6bf2-5c4b-492d-addb-2c44f5c2a21b",
   "metadata": {},
   "source": [
    "### ii)/iii)"
   ]
  },
  {
   "cell_type": "markdown",
   "id": "078e6222-d07a-45bd-b830-71c361f9fcf5",
   "metadata": {},
   "source": [
    "Now, we want to create a grid of 100 x-values that runs from 0.01 to 0.9. For reasons of efficiency, we've created the grid inside the for-loop that solves the 100 x-values that are given in the grid. Additionally we've added the values into the two empty lists, that is later used to graph it."
   ]
  },
  {
   "cell_type": "code",
   "execution_count": 11,
   "id": "3e1393af-eeb6-48ff-8ee6-8ed7e744838c",
   "metadata": {},
   "outputs": [],
   "source": [
    "qres = []\n",
    "xres = []\n",
    "for x in np.linspace(0.01,0.9,100):\n",
    "    res = np.array(optimal_q(x,par))\n",
    "    x = x\n",
    "    qres.append(res)\n",
    "    xres.append(x)"
   ]
  },
  {
   "cell_type": "markdown",
   "id": "77367ae2-2fec-47e4-be1d-410bae4df09a",
   "metadata": {},
   "source": [
    "### iv)"
   ]
  },
  {
   "cell_type": "markdown",
   "id": "6d0796bf-75fb-4dc6-b3ef-342b12113031",
   "metadata": {},
   "source": [
    "Now we've come to the question of making a plot that shows the corrolation of the x-values and the q-values. This is done using the 'matplotlib.pyplot' program."
   ]
  },
  {
   "cell_type": "code",
   "execution_count": 12,
   "id": "d6d59419-7684-43d7-954c-f5cd515d2f6d",
   "metadata": {},
   "outputs": [
    {
     "data": {
      "text/plain": [
       "Text(0.5, 1.0, 'Correlation between x-values and q-values')"
      ]
     },
     "execution_count": 12,
     "metadata": {},
     "output_type": "execute_result"
    },
    {
     "data": {
      "image/png": "[encoded data removed]",
      "text/plain": [
       "<Figure size 432x288 with 1 Axes>"
      ]
     },
     "metadata": {
      "needs_background": "light"
     },
     "output_type": "display_data"
    }
   ],
   "source": [
    "fig = plt.figure()\n",
    "ax = fig.add_subplot(1,1,1)\n",
    "ax.plot(xres,qres, lw=2,color='black',label='Correlation graph')\n",
    "ax.set_xlabel('x-values')\n",
    "ax.set_ylabel('q-values')\n",
    "ax.legend(loc='lower center',frameon=True)\n",
    "ax.set_title('Correlation between x-values and q-values')"
   ]
  },
  {
   "cell_type": "markdown",
   "id": "d6f687ef-bc37-4c49-a0dd-22a402cb2faa",
   "metadata": {},
   "source": [
    "As you can see there is perfekt corrolation, but there is a slight smaller value of the q's over the x's. This however is neglitable since the difference is statisticly insignificant. "
   ]
  },
  {
   "cell_type": "markdown",
   "id": "385541b4-63df-4c53-b50a-f64110d10ba4",
   "metadata": {},
   "source": [
    "## Question 2"
   ]
  },
  {
   "cell_type": "markdown",
   "id": "42e00855-ece9-415a-b254-db694ac06197",
   "metadata": {},
   "source": [
    "## i)"
   ]
  },
  {
   "cell_type": "markdown",
   "id": "e1230b9f-d4c6-4bdf-bacf-814f648f3822",
   "metadata": {},
   "source": [
    "Here we begin this question by generating the grid for which the q-values will run. This is done using the linspace-function. "
   ]
  },
  {
   "cell_type": "code",
   "execution_count": 13,
   "id": "2879eb06-6c68-48dc-8e51-d88514f89c0d",
   "metadata": {},
   "outputs": [],
   "source": [
    "q_grid = np.linspace(0.01, 0.6, 100)"
   ]
  },
  {
   "cell_type": "markdown",
   "id": "fc136b2e-28c2-428f-bef1-e7af37e0aad9",
   "metadata": {},
   "source": [
    "### ii)"
   ]
  },
  {
   "cell_type": "markdown",
   "id": "1de0a551-21e4-4d68-9f6c-d0113be98093",
   "metadata": {},
   "source": [
    "We start by finding the optimal premiums given the function that defines the acceptable contracts. This is done using the .root optimizer and saving the results as earlier. "
   ]
  },
  {
   "cell_type": "code",
   "execution_count": 14,
   "id": "6964735a-2c46-4923-be24-c0e9829c16fa",
   "metadata": {},
   "outputs": [],
   "source": [
    "premium_guess = [0]\n",
    "premium_results = [] #Empty list to save results\n",
    "qvalue = []\n",
    "old_premium = []\n",
    "\n",
    "for q in q_grid:\n",
    "    obj_premium = lambda premium: -acceptable(q, premium[0])\n",
    "    res = optimize.root(obj_premium, premium_guess, method='broyden1')\n",
    "    premium_results.append(res.x[0])\n",
    "    qvalue.append(q)\n",
    "    old_premium.append(0.2*q)"
   ]
  },
  {
   "cell_type": "markdown",
   "id": "77f5a4fd-7913-485a-ae0b-7f40cd67ca6a",
   "metadata": {},
   "source": [
    "When we have these results, we plot both the premiums that that are acceptable, and the premiums given by the function of premiums. The shaded area covers the difference. "
   ]
  },
  {
   "cell_type": "code",
   "execution_count": 15,
   "id": "0686a363-67f6-4689-b73c-b832ea290c1f",
   "metadata": {},
   "outputs": [
    {
     "data": {
      "text/plain": [
       "<matplotlib.collections.PolyCollection at 0x1eda408fc70>"
      ]
     },
     "execution_count": 15,
     "metadata": {},
     "output_type": "execute_result"
    },
    {
     "data": {
      "image/png": "[encoded data removed]",
      "text/plain": [
       "<Figure size 432x288 with 1 Axes>"
      ]
     },
     "metadata": {
      "needs_background": "light"
     },
     "output_type": "display_data"
    }
   ],
   "source": [
    "fig = plt.figure()\n",
    "ax2 = fig.add_subplot(1,1,1)\n",
    "ax2.plot(qvalue,premium_results, lw=2,color='black',label='correlation graph')\n",
    "ax2.plot(qvalue,old_premium, ls='--', color='blue',label='pq-diagram')\n",
    "ax2.set_xlabel('q-values')\n",
    "ax2.set_ylabel('premiums')\n",
    "ax2.legend(loc='lower center',frameon=True)\n",
    "ax2.set_title('Correlation between x-values and q-values')\n",
    "plt.fill_between(qvalue,premium_results,old_premium, color='green')"
   ]
  },
  {
   "cell_type": "markdown",
   "id": "a9284fee-3024-467f-aa80-4c6ed462f7d6",
   "metadata": {},
   "source": [
    "The result is that we now has the green shaded area that defines feasable premiums given the coverage amount."
   ]
  },
  {
   "cell_type": "markdown",
   "id": "4a29faa2-4cec-473b-8ad9-dbc2c302469e",
   "metadata": {},
   "source": [
    "## Question 3"
   ]
  },
  {
   "cell_type": "markdown",
   "id": "6f4321b1-f169-4364-b265-130b9f02c154",
   "metadata": {},
   "source": [
    "### i)/ii)"
   ]
  },
  {
   "cell_type": "markdown",
   "id": "2e5737b5-d5d9-4263-994e-a0dbf14ad4b0",
   "metadata": {},
   "source": [
    "In this question we are combining the two subquestions since it makes the function more efficient. This can be seen as below."
   ]
  },
  {
   "cell_type": "code",
   "execution_count": 8,
   "id": "bd9519cb-ae61-44a3-826c-7f9f1d1f1cdd",
   "metadata": {},
   "outputs": [
    {
     "name": "stdout",
     "output_type": "stream",
     "text": [
      "First test is = -1.26\n",
      "Second test is = -1.15\n"
     ]
    }
   ],
   "source": [
    "def average_eq(gamma,premium,par):\n",
    "    x = beta.rvs(par.a, par.b, size=par.N)\n",
    "    z1 = par.y-(1-gamma)*x-premium\n",
    "    z2 = par.y-premium\n",
    "    return np.mean(par.p*utility(z1,par)+(1-par.p)*utility(z2,par))\n",
    "\n",
    "\n",
    "print('First test is =', \"%.2f\" % average_eq(0.9,0.2,par,))\n",
    "print('Second test is =', \"%.2f\" % average_eq(0.45,0.1,par))"
   ]
  },
  {
   "cell_type": "markdown",
   "id": "8cbdedb9-391f-418a-834b-9270ca617515",
   "metadata": {},
   "source": [
    "Here we get the result that a gamma-value (or coverage-ratio) of 0.45 and a pi (premium) of 0.1 given the two options."
   ]
  },
  {
   "cell_type": "markdown",
   "id": "877d9b3a-9f57-4177-8fe4-849b1884018a",
   "metadata": {},
   "source": [
    "## Question 4"
   ]
  },
  {
   "cell_type": "markdown",
   "id": "8ae6e1a6-7fb6-4146-b4d5-68057d53f2db",
   "metadata": {},
   "source": [
    "### i)"
   ]
  },
  {
   "cell_type": "markdown",
   "id": "34703eaf-3c9b-4d27-981e-3fc721e416e5",
   "metadata": {},
   "source": [
    "In this question we are looking to find the profit maximizing premium. This is done by using the .root optimizier. "
   ]
  },
  {
   "cell_type": "code",
   "execution_count": 9,
   "id": "8148757c-ed6b-4fa0-a0d4-f45ceb09ac8d",
   "metadata": {},
   "outputs": [
    {
     "name": "stdout",
     "output_type": "stream",
     "text": [
      "The profit maximizing premium is 0.25\n"
     ]
    }
   ],
   "source": [
    "premium_guess = [0] \n",
    "obj = lambda premium: difference(premium[0],par)\n",
    "res = optimize.root(obj,premium_guess,method='broyden1')\n",
    "premium_optimum = res.x[0]\n",
    "print(\"The profit maximizing premium is\", \"%.2f\" % premium_optimum)"
   ]
  }
 ],
 "metadata": {
  "kernelspec": {
   "display_name": "Python 3 (ipykernel)",
   "language": "python",
   "name": "python3"
  },
  "language_info": {
   "codemirror_mode": {
    "name": "ipython",
    "version": 3
   },
   "file_extension": ".py",
   "mimetype": "text/x-python",
   "name": "python",
   "nbconvert_exporter": "python",
   "pygments_lexer": "ipython3",
   "version": "3.9.7"
  }
 },
 "nbformat": 4,
 "nbformat_minor": 5
}
